{
 "cells": [
  {
   "cell_type": "markdown",
   "metadata": {},
   "source": [
    "### Problem definition:\n",
    "\n",
    "Discover look alike customers"
   ]
  },
  {
   "cell_type": "code",
   "execution_count": 1,
   "metadata": {
    "collapsed": true
   },
   "outputs": [],
   "source": [
    "# Load Packages and Data\n",
    "# Exploratory Data Analysis (EDA)\n",
    "    #-Descriptive Statistics\n",
    "    #-Univariate Analysis\n",
    "    #-Bivariate Analysis\n",
    "    # Missing Value Treatment\n"
   ]
  },
  {
   "cell_type": "markdown",
   "metadata": {},
   "source": [
    "### Load Packages and Data"
   ]
  },
  {
   "cell_type": "code",
   "execution_count": 2,
   "metadata": {
    "collapsed": true
   },
   "outputs": [],
   "source": [
    "import pandas as pd\n",
    "import numpy as np\n",
    "import matplotlib.pyplot as plt\n",
    "import numpy as np\n",
    "import pandas as pd\n",
    "from sklearn.cluster import KMeans\n",
    "%matplotlib inline\n",
    "import seaborn as sns\n",
    "sns.set();"
   ]
  },
  {
   "cell_type": "code",
   "execution_count": 3,
   "metadata": {
    "collapsed": true
   },
   "outputs": [],
   "source": [
    "# Load dataset\n",
    "df_data = pd.read_csv('data/red_crown_sample_data1.csv',index_col=False)"
   ]
  },
  {
   "cell_type": "code",
   "execution_count": 4,
   "metadata": {},
   "outputs": [
    {
     "data": {
      "text/plain": [
       "(239788, 13)"
      ]
     },
     "execution_count": 4,
     "metadata": {},
     "output_type": "execute_result"
    }
   ],
   "source": [
    "# shape\n",
    "df_data.shape"
   ]
  },
  {
   "cell_type": "markdown",
   "metadata": {},
   "source": [
    "There are 23,9788 instances to work with and the data has 13 attributes."
   ]
  },
  {
   "cell_type": "code",
   "execution_count": 5,
   "metadata": {},
   "outputs": [
    {
     "data": {
      "text/html": [
       "<div>\n",
       "<style scoped>\n",
       "    .dataframe tbody tr th:only-of-type {\n",
       "        vertical-align: middle;\n",
       "    }\n",
       "\n",
       "    .dataframe tbody tr th {\n",
       "        vertical-align: top;\n",
       "    }\n",
       "\n",
       "    .dataframe thead th {\n",
       "        text-align: right;\n",
       "    }\n",
       "</style>\n",
       "<table border=\"1\" class=\"dataframe\">\n",
       "  <thead>\n",
       "    <tr style=\"text-align: right;\">\n",
       "      <th></th>\n",
       "      <th>Unnamed: 0</th>\n",
       "      <th>ID</th>\n",
       "      <th>age</th>\n",
       "      <th>submission_date</th>\n",
       "      <th>contract_length</th>\n",
       "      <th>upgraded</th>\n",
       "      <th>gender</th>\n",
       "      <th>category</th>\n",
       "      <th>score1</th>\n",
       "      <th>score2</th>\n",
       "      <th>score3</th>\n",
       "      <th>first_contact</th>\n",
       "      <th>customer</th>\n",
       "    </tr>\n",
       "  </thead>\n",
       "  <tbody>\n",
       "    <tr>\n",
       "      <th>0</th>\n",
       "      <td>1</td>\n",
       "      <td>qzx1</td>\n",
       "      <td>41</td>\n",
       "      <td>2013-03-30</td>\n",
       "      <td>2027.0</td>\n",
       "      <td>False</td>\n",
       "      <td>Female</td>\n",
       "      <td>1</td>\n",
       "      <td>4.155778</td>\n",
       "      <td>1.303375</td>\n",
       "      <td>-0.003228</td>\n",
       "      <td>NaN</td>\n",
       "      <td>False</td>\n",
       "    </tr>\n",
       "    <tr>\n",
       "      <th>1</th>\n",
       "      <td>2</td>\n",
       "      <td>qzx1</td>\n",
       "      <td>42</td>\n",
       "      <td>2016-06-30</td>\n",
       "      <td>162.0</td>\n",
       "      <td>False</td>\n",
       "      <td>Female</td>\n",
       "      <td>2</td>\n",
       "      <td>3.552356</td>\n",
       "      <td>1.719870</td>\n",
       "      <td>-0.000300</td>\n",
       "      <td>NaN</td>\n",
       "      <td>False</td>\n",
       "    </tr>\n",
       "    <tr>\n",
       "      <th>2</th>\n",
       "      <td>3</td>\n",
       "      <td>qzx1</td>\n",
       "      <td>40</td>\n",
       "      <td>2012-04-20</td>\n",
       "      <td>381.0</td>\n",
       "      <td>False</td>\n",
       "      <td>Female</td>\n",
       "      <td>2</td>\n",
       "      <td>3.551545</td>\n",
       "      <td>2.055290</td>\n",
       "      <td>-0.000003</td>\n",
       "      <td>NaN</td>\n",
       "      <td>False</td>\n",
       "    </tr>\n",
       "    <tr>\n",
       "      <th>3</th>\n",
       "      <td>4</td>\n",
       "      <td>qzx1</td>\n",
       "      <td>40</td>\n",
       "      <td>2013-11-02</td>\n",
       "      <td>351.0</td>\n",
       "      <td>False</td>\n",
       "      <td>Female</td>\n",
       "      <td>2</td>\n",
       "      <td>4.202698</td>\n",
       "      <td>1.151331</td>\n",
       "      <td>-0.010516</td>\n",
       "      <td>NaN</td>\n",
       "      <td>False</td>\n",
       "    </tr>\n",
       "    <tr>\n",
       "      <th>4</th>\n",
       "      <td>5</td>\n",
       "      <td>qzx1</td>\n",
       "      <td>44</td>\n",
       "      <td>2010-01-20</td>\n",
       "      <td>120.0</td>\n",
       "      <td>False</td>\n",
       "      <td>Female</td>\n",
       "      <td>2</td>\n",
       "      <td>2.818966</td>\n",
       "      <td>2.169682</td>\n",
       "      <td>-0.000348</td>\n",
       "      <td>NaN</td>\n",
       "      <td>False</td>\n",
       "    </tr>\n",
       "  </tbody>\n",
       "</table>\n",
       "</div>"
      ],
      "text/plain": [
       "   Unnamed: 0    ID  age submission_date  contract_length  upgraded  gender  \\\n",
       "0           1  qzx1   41      2013-03-30           2027.0     False  Female   \n",
       "1           2  qzx1   42      2016-06-30            162.0     False  Female   \n",
       "2           3  qzx1   40      2012-04-20            381.0     False  Female   \n",
       "3           4  qzx1   40      2013-11-02            351.0     False  Female   \n",
       "4           5  qzx1   44      2010-01-20            120.0     False  Female   \n",
       "\n",
       "   category    score1    score2    score3 first_contact  customer  \n",
       "0         1  4.155778  1.303375 -0.003228           NaN     False  \n",
       "1         2  3.552356  1.719870 -0.000300           NaN     False  \n",
       "2         2  3.551545  2.055290 -0.000003           NaN     False  \n",
       "3         2  4.202698  1.151331 -0.010516           NaN     False  \n",
       "4         2  2.818966  2.169682 -0.000348           NaN     False  "
      ]
     },
     "execution_count": 5,
     "metadata": {},
     "output_type": "execute_result"
    }
   ],
   "source": [
    "# view sample rows\n",
    "df_data.head()"
   ]
  },
  {
   "cell_type": "code",
   "execution_count": 6,
   "metadata": {},
   "outputs": [
    {
     "data": {
      "text/html": [
       "<div>\n",
       "<style scoped>\n",
       "    .dataframe tbody tr th:only-of-type {\n",
       "        vertical-align: middle;\n",
       "    }\n",
       "\n",
       "    .dataframe tbody tr th {\n",
       "        vertical-align: top;\n",
       "    }\n",
       "\n",
       "    .dataframe thead th {\n",
       "        text-align: right;\n",
       "    }\n",
       "</style>\n",
       "<table border=\"1\" class=\"dataframe\">\n",
       "  <thead>\n",
       "    <tr style=\"text-align: right;\">\n",
       "      <th></th>\n",
       "      <th>Unnamed: 0</th>\n",
       "      <th>age</th>\n",
       "      <th>contract_length</th>\n",
       "      <th>category</th>\n",
       "      <th>score1</th>\n",
       "      <th>score2</th>\n",
       "      <th>score3</th>\n",
       "    </tr>\n",
       "  </thead>\n",
       "  <tbody>\n",
       "    <tr>\n",
       "      <th>count</th>\n",
       "      <td>239788.000000</td>\n",
       "      <td>239788.000000</td>\n",
       "      <td>68263.000000</td>\n",
       "      <td>239788.000000</td>\n",
       "      <td>239788.000000</td>\n",
       "      <td>239788.000000</td>\n",
       "      <td>239788.000000</td>\n",
       "    </tr>\n",
       "    <tr>\n",
       "      <th>mean</th>\n",
       "      <td>119894.500000</td>\n",
       "      <td>34.204689</td>\n",
       "      <td>2081.781185</td>\n",
       "      <td>1.621895</td>\n",
       "      <td>4.918111</td>\n",
       "      <td>1.118694</td>\n",
       "      <td>-1.516862</td>\n",
       "    </tr>\n",
       "    <tr>\n",
       "      <th>std</th>\n",
       "      <td>69220.977512</td>\n",
       "      <td>2.984439</td>\n",
       "      <td>1225.355978</td>\n",
       "      <td>0.484915</td>\n",
       "      <td>0.517630</td>\n",
       "      <td>0.599922</td>\n",
       "      <td>1.025697</td>\n",
       "    </tr>\n",
       "    <tr>\n",
       "      <th>min</th>\n",
       "      <td>1.000000</td>\n",
       "      <td>9.000000</td>\n",
       "      <td>1.000000</td>\n",
       "      <td>1.000000</td>\n",
       "      <td>2.149353</td>\n",
       "      <td>0.361095</td>\n",
       "      <td>-10.936312</td>\n",
       "    </tr>\n",
       "    <tr>\n",
       "      <th>25%</th>\n",
       "      <td>59947.750000</td>\n",
       "      <td>32.000000</td>\n",
       "      <td>1059.000000</td>\n",
       "      <td>1.000000</td>\n",
       "      <td>4.678020</td>\n",
       "      <td>0.711478</td>\n",
       "      <td>-2.027088</td>\n",
       "    </tr>\n",
       "    <tr>\n",
       "      <th>50%</th>\n",
       "      <td>119894.500000</td>\n",
       "      <td>34.000000</td>\n",
       "      <td>2036.000000</td>\n",
       "      <td>2.000000</td>\n",
       "      <td>5.033811</td>\n",
       "      <td>0.908702</td>\n",
       "      <td>-1.397082</td>\n",
       "    </tr>\n",
       "    <tr>\n",
       "      <th>75%</th>\n",
       "      <td>179841.250000</td>\n",
       "      <td>36.000000</td>\n",
       "      <td>3010.000000</td>\n",
       "      <td>2.000000</td>\n",
       "      <td>5.285969</td>\n",
       "      <td>1.347086</td>\n",
       "      <td>-0.787911</td>\n",
       "    </tr>\n",
       "    <tr>\n",
       "      <th>max</th>\n",
       "      <td>239788.000000</td>\n",
       "      <td>45.000000</td>\n",
       "      <td>6234.000000</td>\n",
       "      <td>2.000000</td>\n",
       "      <td>6.560284</td>\n",
       "      <td>5.713280</td>\n",
       "      <td>0.000000</td>\n",
       "    </tr>\n",
       "  </tbody>\n",
       "</table>\n",
       "</div>"
      ],
      "text/plain": [
       "          Unnamed: 0            age  contract_length       category  \\\n",
       "count  239788.000000  239788.000000     68263.000000  239788.000000   \n",
       "mean   119894.500000      34.204689      2081.781185       1.621895   \n",
       "std     69220.977512       2.984439      1225.355978       0.484915   \n",
       "min         1.000000       9.000000         1.000000       1.000000   \n",
       "25%     59947.750000      32.000000      1059.000000       1.000000   \n",
       "50%    119894.500000      34.000000      2036.000000       2.000000   \n",
       "75%    179841.250000      36.000000      3010.000000       2.000000   \n",
       "max    239788.000000      45.000000      6234.000000       2.000000   \n",
       "\n",
       "              score1         score2         score3  \n",
       "count  239788.000000  239788.000000  239788.000000  \n",
       "mean        4.918111       1.118694      -1.516862  \n",
       "std         0.517630       0.599922       1.025697  \n",
       "min         2.149353       0.361095     -10.936312  \n",
       "25%         4.678020       0.711478      -2.027088  \n",
       "50%         5.033811       0.908702      -1.397082  \n",
       "75%         5.285969       1.347086      -0.787911  \n",
       "max         6.560284       5.713280       0.000000  "
      ]
     },
     "execution_count": 6,
     "metadata": {},
     "output_type": "execute_result"
    }
   ],
   "source": [
    "# dataset attribute stat\n",
    "df_data.describe()"
   ]
  },
  {
   "cell_type": "code",
   "execution_count": 7,
   "metadata": {},
   "outputs": [
    {
     "name": "stdout",
     "output_type": "stream",
     "text": [
      "<class 'pandas.core.frame.DataFrame'>\n",
      "RangeIndex: 239788 entries, 0 to 239787\n",
      "Data columns (total 13 columns):\n",
      "Unnamed: 0         239788 non-null int64\n",
      "ID                 239788 non-null object\n",
      "age                239788 non-null int64\n",
      "submission_date    239664 non-null object\n",
      "contract_length    68263 non-null float64\n",
      "upgraded           239788 non-null bool\n",
      "gender             239788 non-null object\n",
      "category           239788 non-null int64\n",
      "score1             239788 non-null float64\n",
      "score2             239788 non-null float64\n",
      "score3             239788 non-null float64\n",
      "first_contact      86501 non-null object\n",
      "customer           239788 non-null bool\n",
      "dtypes: bool(2), float64(4), int64(3), object(4)\n",
      "memory usage: 20.6+ MB\n"
     ]
    }
   ],
   "source": [
    "# data type\n",
    "df_data.info()"
   ]
  },
  {
   "cell_type": "code",
   "execution_count": 8,
   "metadata": {},
   "outputs": [
    {
     "data": {
      "text/plain": [
       "Unnamed: 0              0\n",
       "ID                      0\n",
       "age                     0\n",
       "submission_date       124\n",
       "contract_length    171525\n",
       "upgraded                0\n",
       "gender                  0\n",
       "category                0\n",
       "score1                  0\n",
       "score2                  0\n",
       "score3                  0\n",
       "first_contact      153287\n",
       "customer                0\n",
       "dtype: int64"
      ]
     },
     "execution_count": 8,
     "metadata": {},
     "output_type": "execute_result"
    }
   ],
   "source": [
    "# Check for missing values\n",
    "df_data.isnull().sum()"
   ]
  },
  {
   "cell_type": "markdown",
   "metadata": {},
   "source": [
    "There are missing values in contract_length, submission_date and first_contact "
   ]
  },
  {
   "cell_type": "code",
   "execution_count": 9,
   "metadata": {},
   "outputs": [
    {
     "name": "stdout",
     "output_type": "stream",
     "text": [
      "customer\n",
      "False    211723\n",
      "True      28065\n",
      "dtype: int64\n"
     ]
    }
   ],
   "source": [
    "# customer class distribution\n",
    "print(df_data.groupby('customer').size())"
   ]
  },
  {
   "cell_type": "markdown",
   "metadata": {
    "collapsed": true
   },
   "source": [
    "From the customer population size of 239,788 there are 28,065 customers and 211,723 customers that we want to extract lookalikes from."
   ]
  },
  {
   "cell_type": "code",
   "execution_count": 10,
   "metadata": {},
   "outputs": [
    {
     "data": {
      "text/plain": [
       "array(['qzx1', 'qzx2', 'qzx3', 'qzx4', 'qzx5', 'qzx6', 'qzx7', 'qzx8',\n",
       "       'qzx9', 'qzx10', 'qzx11', 'qzx12', 'qzx13', 'qzx14', 'qzx15',\n",
       "       'qzx16', 'qzx17', 'qzx18', 'qzx19', 'qzx20', 'qzx21', 'qzx22',\n",
       "       'qzx23', 'qzx24', 'qzx25', 'qzx26', 'qzx27', 'qzx28', 'qzx29',\n",
       "       'qzx30', 'qzx31', 'qzx32', 'qzx33', 'qzx34', 'qzx35', 'qzx36',\n",
       "       'qzx37', 'qzx38', 'qzx39', 'qzx40', 'qzx41', 'qzx42', 'qzx43',\n",
       "       'qzx44', 'qzx45', 'qzx46', 'qzx47', 'qzx48', 'qzx49', 'qzx50',\n",
       "       'qzx51', 'qzx52', 'qzx53', 'qzx54', 'qzx55', 'qzx56', 'qzx57',\n",
       "       'qzx58', 'qzx59', 'qzx60', 'qzx61', 'qzx62', 'qzx63', 'qzx64',\n",
       "       'qzx65'], dtype=object)"
      ]
     },
     "execution_count": 10,
     "metadata": {},
     "output_type": "execute_result"
    }
   ],
   "source": [
    "df_data.ID.unique()"
   ]
  },
  {
   "cell_type": "markdown",
   "metadata": {},
   "source": [
    "The values of the 'ID' column seems to look like a categorization attribute, each value as a one to many mapping to a number of records."
   ]
  },
  {
   "cell_type": "code",
   "execution_count": 11,
   "metadata": {},
   "outputs": [
    {
     "data": {
      "text/plain": [
       "Unnamed: 0              0\n",
       "ID                      0\n",
       "age                     0\n",
       "submission_date       124\n",
       "contract_length    171525\n",
       "upgraded                0\n",
       "gender                  0\n",
       "category                0\n",
       "score1                  0\n",
       "score2                  0\n",
       "score3                  0\n",
       "first_contact      153287\n",
       "customer                0\n",
       "dtype: int64"
      ]
     },
     "execution_count": 11,
     "metadata": {},
     "output_type": "execute_result"
    }
   ],
   "source": [
    "df_data.isna().sum()"
   ]
  },
  {
   "cell_type": "code",
   "execution_count": 12,
   "metadata": {},
   "outputs": [
    {
     "data": {
      "text/html": [
       "<div>\n",
       "<style scoped>\n",
       "    .dataframe tbody tr th:only-of-type {\n",
       "        vertical-align: middle;\n",
       "    }\n",
       "\n",
       "    .dataframe tbody tr th {\n",
       "        vertical-align: top;\n",
       "    }\n",
       "\n",
       "    .dataframe thead th {\n",
       "        text-align: right;\n",
       "    }\n",
       "</style>\n",
       "<table border=\"1\" class=\"dataframe\">\n",
       "  <thead>\n",
       "    <tr style=\"text-align: right;\">\n",
       "      <th></th>\n",
       "      <th>Unnamed: 0</th>\n",
       "      <th>ID</th>\n",
       "      <th>age</th>\n",
       "      <th>submission_date</th>\n",
       "      <th>contract_length</th>\n",
       "      <th>upgraded</th>\n",
       "      <th>gender</th>\n",
       "      <th>category</th>\n",
       "      <th>score1</th>\n",
       "      <th>score2</th>\n",
       "      <th>score3</th>\n",
       "      <th>first_contact</th>\n",
       "      <th>customer</th>\n",
       "    </tr>\n",
       "  </thead>\n",
       "  <tbody>\n",
       "    <tr>\n",
       "      <th>0</th>\n",
       "      <td>1</td>\n",
       "      <td>qzx1</td>\n",
       "      <td>41</td>\n",
       "      <td>2013-03-30</td>\n",
       "      <td>2027.0</td>\n",
       "      <td>False</td>\n",
       "      <td>Female</td>\n",
       "      <td>1</td>\n",
       "      <td>4.155778</td>\n",
       "      <td>1.303375</td>\n",
       "      <td>-0.003228</td>\n",
       "      <td>NaN</td>\n",
       "      <td>False</td>\n",
       "    </tr>\n",
       "    <tr>\n",
       "      <th>1</th>\n",
       "      <td>2</td>\n",
       "      <td>qzx1</td>\n",
       "      <td>42</td>\n",
       "      <td>2016-06-30</td>\n",
       "      <td>162.0</td>\n",
       "      <td>False</td>\n",
       "      <td>Female</td>\n",
       "      <td>2</td>\n",
       "      <td>3.552356</td>\n",
       "      <td>1.719870</td>\n",
       "      <td>-0.000300</td>\n",
       "      <td>NaN</td>\n",
       "      <td>False</td>\n",
       "    </tr>\n",
       "    <tr>\n",
       "      <th>2</th>\n",
       "      <td>3</td>\n",
       "      <td>qzx1</td>\n",
       "      <td>40</td>\n",
       "      <td>2012-04-20</td>\n",
       "      <td>381.0</td>\n",
       "      <td>False</td>\n",
       "      <td>Female</td>\n",
       "      <td>2</td>\n",
       "      <td>3.551545</td>\n",
       "      <td>2.055290</td>\n",
       "      <td>-0.000003</td>\n",
       "      <td>NaN</td>\n",
       "      <td>False</td>\n",
       "    </tr>\n",
       "    <tr>\n",
       "      <th>3</th>\n",
       "      <td>4</td>\n",
       "      <td>qzx1</td>\n",
       "      <td>40</td>\n",
       "      <td>2013-11-02</td>\n",
       "      <td>351.0</td>\n",
       "      <td>False</td>\n",
       "      <td>Female</td>\n",
       "      <td>2</td>\n",
       "      <td>4.202698</td>\n",
       "      <td>1.151331</td>\n",
       "      <td>-0.010516</td>\n",
       "      <td>NaN</td>\n",
       "      <td>False</td>\n",
       "    </tr>\n",
       "    <tr>\n",
       "      <th>4</th>\n",
       "      <td>5</td>\n",
       "      <td>qzx1</td>\n",
       "      <td>44</td>\n",
       "      <td>2010-01-20</td>\n",
       "      <td>120.0</td>\n",
       "      <td>False</td>\n",
       "      <td>Female</td>\n",
       "      <td>2</td>\n",
       "      <td>2.818966</td>\n",
       "      <td>2.169682</td>\n",
       "      <td>-0.000348</td>\n",
       "      <td>NaN</td>\n",
       "      <td>False</td>\n",
       "    </tr>\n",
       "  </tbody>\n",
       "</table>\n",
       "</div>"
      ],
      "text/plain": [
       "   Unnamed: 0    ID  age submission_date  contract_length  upgraded  gender  \\\n",
       "0           1  qzx1   41      2013-03-30           2027.0     False  Female   \n",
       "1           2  qzx1   42      2016-06-30            162.0     False  Female   \n",
       "2           3  qzx1   40      2012-04-20            381.0     False  Female   \n",
       "3           4  qzx1   40      2013-11-02            351.0     False  Female   \n",
       "4           5  qzx1   44      2010-01-20            120.0     False  Female   \n",
       "\n",
       "   category    score1    score2    score3 first_contact  customer  \n",
       "0         1  4.155778  1.303375 -0.003228           NaN     False  \n",
       "1         2  3.552356  1.719870 -0.000300           NaN     False  \n",
       "2         2  3.551545  2.055290 -0.000003           NaN     False  \n",
       "3         2  4.202698  1.151331 -0.010516           NaN     False  \n",
       "4         2  2.818966  2.169682 -0.000348           NaN     False  "
      ]
     },
     "execution_count": 12,
     "metadata": {},
     "output_type": "execute_result"
    }
   ],
   "source": [
    "df_data.head()"
   ]
  },
  {
   "cell_type": "markdown",
   "metadata": {},
   "source": [
    "Not sure what to do with the submission_date yet, there are no missing submission_date values in customer records and we \n",
    "only have them in non-customer records, the count of missing submission_date values is abt 124, this will be removed \n",
    "and be revisited subsequently. Same goes for first_contact date attribute to some extent. I dont want to throw away the rows of data involved."
   ]
  },
  {
   "cell_type": "code",
   "execution_count": 13,
   "metadata": {},
   "outputs": [
    {
     "data": {
      "text/html": [
       "<div>\n",
       "<style scoped>\n",
       "    .dataframe tbody tr th:only-of-type {\n",
       "        vertical-align: middle;\n",
       "    }\n",
       "\n",
       "    .dataframe tbody tr th {\n",
       "        vertical-align: top;\n",
       "    }\n",
       "\n",
       "    .dataframe thead th {\n",
       "        text-align: right;\n",
       "    }\n",
       "</style>\n",
       "<table border=\"1\" class=\"dataframe\">\n",
       "  <thead>\n",
       "    <tr style=\"text-align: right;\">\n",
       "      <th></th>\n",
       "      <th>Unnamed: 0</th>\n",
       "      <th>ID</th>\n",
       "      <th>age</th>\n",
       "      <th>upgraded</th>\n",
       "      <th>gender</th>\n",
       "      <th>category</th>\n",
       "      <th>score1</th>\n",
       "      <th>score2</th>\n",
       "      <th>score3</th>\n",
       "      <th>customer</th>\n",
       "    </tr>\n",
       "  </thead>\n",
       "  <tbody>\n",
       "    <tr>\n",
       "      <th>0</th>\n",
       "      <td>1</td>\n",
       "      <td>qzx1</td>\n",
       "      <td>41</td>\n",
       "      <td>False</td>\n",
       "      <td>Female</td>\n",
       "      <td>1</td>\n",
       "      <td>4.155778</td>\n",
       "      <td>1.303375</td>\n",
       "      <td>-0.003228</td>\n",
       "      <td>False</td>\n",
       "    </tr>\n",
       "    <tr>\n",
       "      <th>1</th>\n",
       "      <td>2</td>\n",
       "      <td>qzx1</td>\n",
       "      <td>42</td>\n",
       "      <td>False</td>\n",
       "      <td>Female</td>\n",
       "      <td>2</td>\n",
       "      <td>3.552356</td>\n",
       "      <td>1.719870</td>\n",
       "      <td>-0.000300</td>\n",
       "      <td>False</td>\n",
       "    </tr>\n",
       "    <tr>\n",
       "      <th>2</th>\n",
       "      <td>3</td>\n",
       "      <td>qzx1</td>\n",
       "      <td>40</td>\n",
       "      <td>False</td>\n",
       "      <td>Female</td>\n",
       "      <td>2</td>\n",
       "      <td>3.551545</td>\n",
       "      <td>2.055290</td>\n",
       "      <td>-0.000003</td>\n",
       "      <td>False</td>\n",
       "    </tr>\n",
       "    <tr>\n",
       "      <th>3</th>\n",
       "      <td>4</td>\n",
       "      <td>qzx1</td>\n",
       "      <td>40</td>\n",
       "      <td>False</td>\n",
       "      <td>Female</td>\n",
       "      <td>2</td>\n",
       "      <td>4.202698</td>\n",
       "      <td>1.151331</td>\n",
       "      <td>-0.010516</td>\n",
       "      <td>False</td>\n",
       "    </tr>\n",
       "    <tr>\n",
       "      <th>4</th>\n",
       "      <td>5</td>\n",
       "      <td>qzx1</td>\n",
       "      <td>44</td>\n",
       "      <td>False</td>\n",
       "      <td>Female</td>\n",
       "      <td>2</td>\n",
       "      <td>2.818966</td>\n",
       "      <td>2.169682</td>\n",
       "      <td>-0.000348</td>\n",
       "      <td>False</td>\n",
       "    </tr>\n",
       "  </tbody>\n",
       "</table>\n",
       "</div>"
      ],
      "text/plain": [
       "   Unnamed: 0    ID  age  upgraded  gender  category    score1    score2  \\\n",
       "0           1  qzx1   41     False  Female         1  4.155778  1.303375   \n",
       "1           2  qzx1   42     False  Female         2  3.552356  1.719870   \n",
       "2           3  qzx1   40     False  Female         2  3.551545  2.055290   \n",
       "3           4  qzx1   40     False  Female         2  4.202698  1.151331   \n",
       "4           5  qzx1   44     False  Female         2  2.818966  2.169682   \n",
       "\n",
       "     score3  customer  \n",
       "0 -0.003228     False  \n",
       "1 -0.000300     False  \n",
       "2 -0.000003     False  \n",
       "3 -0.010516     False  \n",
       "4 -0.000348     False  "
      ]
     },
     "execution_count": 13,
     "metadata": {},
     "output_type": "execute_result"
    }
   ],
   "source": [
    "df_data = df_data.drop(columns=['submission_date','first_contact','contract_length'])\n",
    "df_data.head()"
   ]
  },
  {
   "cell_type": "code",
   "execution_count": 14,
   "metadata": {},
   "outputs": [
    {
     "data": {
      "text/plain": [
       "array(['0', '1'], dtype=object)"
      ]
     },
     "execution_count": 14,
     "metadata": {},
     "output_type": "execute_result"
    }
   ],
   "source": [
    "# convert bool attributes upgraded\n",
    "df_data['upgraded'] = df_data.upgraded.apply(lambda x: str(x))\n",
    "df_data['upgraded'] = df_data.upgraded.apply(lambda x: x.replace('False','0'))\n",
    "df_data['upgraded'] = df_data.upgraded.apply(lambda x: x.replace('True','1'))\n",
    "df_data.upgraded.unique()"
   ]
  },
  {
   "cell_type": "code",
   "execution_count": 15,
   "metadata": {
    "collapsed": true
   },
   "outputs": [],
   "source": [
    "# convert upgraded data fron object to number\n",
    "df_data['upgraded'] = df_data.upgraded.apply(lambda x: int(x))"
   ]
  },
  {
   "cell_type": "code",
   "execution_count": 16,
   "metadata": {},
   "outputs": [
    {
     "data": {
      "text/plain": [
       "array(['1', '0'], dtype=object)"
      ]
     },
     "execution_count": 16,
     "metadata": {},
     "output_type": "execute_result"
    }
   ],
   "source": [
    "# convert categorical attributes gender\n",
    "df_data['gender'] = df_data.gender.apply(lambda x: x.replace(\"Male\",\"0\"))\n",
    "df_data['gender'] = df_data.gender.apply(lambda x: x.replace(\"Female\",\"1\"))\n",
    "df_data.gender.unique()"
   ]
  },
  {
   "cell_type": "code",
   "execution_count": 17,
   "metadata": {
    "collapsed": true
   },
   "outputs": [],
   "source": [
    "# convert gender data fron object to number\n",
    "df_data['gender'] = df_data.gender.apply(lambda x: int(x))"
   ]
  },
  {
   "cell_type": "code",
   "execution_count": 18,
   "metadata": {},
   "outputs": [
    {
     "data": {
      "text/html": [
       "<div>\n",
       "<style scoped>\n",
       "    .dataframe tbody tr th:only-of-type {\n",
       "        vertical-align: middle;\n",
       "    }\n",
       "\n",
       "    .dataframe tbody tr th {\n",
       "        vertical-align: top;\n",
       "    }\n",
       "\n",
       "    .dataframe thead th {\n",
       "        text-align: right;\n",
       "    }\n",
       "</style>\n",
       "<table border=\"1\" class=\"dataframe\">\n",
       "  <thead>\n",
       "    <tr style=\"text-align: right;\">\n",
       "      <th></th>\n",
       "      <th>Unnamed: 0</th>\n",
       "      <th>ID</th>\n",
       "      <th>age</th>\n",
       "      <th>upgraded</th>\n",
       "      <th>gender</th>\n",
       "      <th>category</th>\n",
       "      <th>score1</th>\n",
       "      <th>score2</th>\n",
       "      <th>score3</th>\n",
       "      <th>customer</th>\n",
       "    </tr>\n",
       "  </thead>\n",
       "  <tbody>\n",
       "    <tr>\n",
       "      <th>0</th>\n",
       "      <td>1</td>\n",
       "      <td>qzx1</td>\n",
       "      <td>41</td>\n",
       "      <td>0</td>\n",
       "      <td>1</td>\n",
       "      <td>1</td>\n",
       "      <td>4.155778</td>\n",
       "      <td>1.303375</td>\n",
       "      <td>-0.003228</td>\n",
       "      <td>False</td>\n",
       "    </tr>\n",
       "    <tr>\n",
       "      <th>1</th>\n",
       "      <td>2</td>\n",
       "      <td>qzx1</td>\n",
       "      <td>42</td>\n",
       "      <td>0</td>\n",
       "      <td>1</td>\n",
       "      <td>2</td>\n",
       "      <td>3.552356</td>\n",
       "      <td>1.719870</td>\n",
       "      <td>-0.000300</td>\n",
       "      <td>False</td>\n",
       "    </tr>\n",
       "    <tr>\n",
       "      <th>2</th>\n",
       "      <td>3</td>\n",
       "      <td>qzx1</td>\n",
       "      <td>40</td>\n",
       "      <td>0</td>\n",
       "      <td>1</td>\n",
       "      <td>2</td>\n",
       "      <td>3.551545</td>\n",
       "      <td>2.055290</td>\n",
       "      <td>-0.000003</td>\n",
       "      <td>False</td>\n",
       "    </tr>\n",
       "    <tr>\n",
       "      <th>3</th>\n",
       "      <td>4</td>\n",
       "      <td>qzx1</td>\n",
       "      <td>40</td>\n",
       "      <td>0</td>\n",
       "      <td>1</td>\n",
       "      <td>2</td>\n",
       "      <td>4.202698</td>\n",
       "      <td>1.151331</td>\n",
       "      <td>-0.010516</td>\n",
       "      <td>False</td>\n",
       "    </tr>\n",
       "    <tr>\n",
       "      <th>4</th>\n",
       "      <td>5</td>\n",
       "      <td>qzx1</td>\n",
       "      <td>44</td>\n",
       "      <td>0</td>\n",
       "      <td>1</td>\n",
       "      <td>2</td>\n",
       "      <td>2.818966</td>\n",
       "      <td>2.169682</td>\n",
       "      <td>-0.000348</td>\n",
       "      <td>False</td>\n",
       "    </tr>\n",
       "  </tbody>\n",
       "</table>\n",
       "</div>"
      ],
      "text/plain": [
       "   Unnamed: 0    ID  age  upgraded  gender  category    score1    score2  \\\n",
       "0           1  qzx1   41         0       1         1  4.155778  1.303375   \n",
       "1           2  qzx1   42         0       1         2  3.552356  1.719870   \n",
       "2           3  qzx1   40         0       1         2  3.551545  2.055290   \n",
       "3           4  qzx1   40         0       1         2  4.202698  1.151331   \n",
       "4           5  qzx1   44         0       1         2  2.818966  2.169682   \n",
       "\n",
       "     score3  customer  \n",
       "0 -0.003228     False  \n",
       "1 -0.000300     False  \n",
       "2 -0.000003     False  \n",
       "3 -0.010516     False  \n",
       "4 -0.000348     False  "
      ]
     },
     "execution_count": 18,
     "metadata": {},
     "output_type": "execute_result"
    }
   ],
   "source": [
    "df_data.head()"
   ]
  },
  {
   "cell_type": "code",
   "execution_count": null,
   "metadata": {
    "collapsed": true
   },
   "outputs": [],
   "source": []
  },
  {
   "cell_type": "code",
   "execution_count": 19,
   "metadata": {},
   "outputs": [
    {
     "data": {
      "text/plain": [
       "array(['0', '1'], dtype=object)"
      ]
     },
     "execution_count": 19,
     "metadata": {},
     "output_type": "execute_result"
    }
   ],
   "source": [
    "# convert bool attributes customer\n",
    "df_data['customer'] = df_data.customer.apply(lambda x: str(x))\n",
    "df_data['customer'] = df_data.customer.apply(lambda x: x.replace('False','0'))\n",
    "df_data['customer'] = df_data.customer.apply(lambda x: x.replace('True','1'))\n",
    "df_data.customer.unique()"
   ]
  },
  {
   "cell_type": "code",
   "execution_count": 20,
   "metadata": {
    "collapsed": true
   },
   "outputs": [],
   "source": [
    "# convert customer data fron object to number\n",
    "df_data['customer'] = df_data.customer.apply(lambda x: int(x))"
   ]
  },
  {
   "cell_type": "code",
   "execution_count": 21,
   "metadata": {
    "collapsed": true
   },
   "outputs": [],
   "source": [
    "# select only numeric attributes\n",
    "numeric_features = df_data[['age','upgraded','gender','category','score1','score2','score3','customer']]\n"
   ]
  },
  {
   "cell_type": "code",
   "execution_count": 22,
   "metadata": {},
   "outputs": [
    {
     "data": {
      "text/html": [
       "<div>\n",
       "<style scoped>\n",
       "    .dataframe tbody tr th:only-of-type {\n",
       "        vertical-align: middle;\n",
       "    }\n",
       "\n",
       "    .dataframe tbody tr th {\n",
       "        vertical-align: top;\n",
       "    }\n",
       "\n",
       "    .dataframe thead th {\n",
       "        text-align: right;\n",
       "    }\n",
       "</style>\n",
       "<table border=\"1\" class=\"dataframe\">\n",
       "  <thead>\n",
       "    <tr style=\"text-align: right;\">\n",
       "      <th></th>\n",
       "      <th>age</th>\n",
       "      <th>upgraded</th>\n",
       "      <th>gender</th>\n",
       "      <th>category</th>\n",
       "      <th>score1</th>\n",
       "      <th>score2</th>\n",
       "      <th>score3</th>\n",
       "      <th>customer</th>\n",
       "    </tr>\n",
       "  </thead>\n",
       "  <tbody>\n",
       "    <tr>\n",
       "      <th>0</th>\n",
       "      <td>41</td>\n",
       "      <td>0</td>\n",
       "      <td>1</td>\n",
       "      <td>1</td>\n",
       "      <td>4.155778</td>\n",
       "      <td>1.303375</td>\n",
       "      <td>-0.003228</td>\n",
       "      <td>0</td>\n",
       "    </tr>\n",
       "    <tr>\n",
       "      <th>1</th>\n",
       "      <td>42</td>\n",
       "      <td>0</td>\n",
       "      <td>1</td>\n",
       "      <td>2</td>\n",
       "      <td>3.552356</td>\n",
       "      <td>1.719870</td>\n",
       "      <td>-0.000300</td>\n",
       "      <td>0</td>\n",
       "    </tr>\n",
       "    <tr>\n",
       "      <th>2</th>\n",
       "      <td>40</td>\n",
       "      <td>0</td>\n",
       "      <td>1</td>\n",
       "      <td>2</td>\n",
       "      <td>3.551545</td>\n",
       "      <td>2.055290</td>\n",
       "      <td>-0.000003</td>\n",
       "      <td>0</td>\n",
       "    </tr>\n",
       "    <tr>\n",
       "      <th>3</th>\n",
       "      <td>40</td>\n",
       "      <td>0</td>\n",
       "      <td>1</td>\n",
       "      <td>2</td>\n",
       "      <td>4.202698</td>\n",
       "      <td>1.151331</td>\n",
       "      <td>-0.010516</td>\n",
       "      <td>0</td>\n",
       "    </tr>\n",
       "    <tr>\n",
       "      <th>4</th>\n",
       "      <td>44</td>\n",
       "      <td>0</td>\n",
       "      <td>1</td>\n",
       "      <td>2</td>\n",
       "      <td>2.818966</td>\n",
       "      <td>2.169682</td>\n",
       "      <td>-0.000348</td>\n",
       "      <td>0</td>\n",
       "    </tr>\n",
       "  </tbody>\n",
       "</table>\n",
       "</div>"
      ],
      "text/plain": [
       "   age  upgraded  gender  category    score1    score2    score3  customer\n",
       "0   41         0       1         1  4.155778  1.303375 -0.003228         0\n",
       "1   42         0       1         2  3.552356  1.719870 -0.000300         0\n",
       "2   40         0       1         2  3.551545  2.055290 -0.000003         0\n",
       "3   40         0       1         2  4.202698  1.151331 -0.010516         0\n",
       "4   44         0       1         2  2.818966  2.169682 -0.000348         0"
      ]
     },
     "execution_count": 22,
     "metadata": {},
     "output_type": "execute_result"
    }
   ],
   "source": [
    "numeric_features.head()"
   ]
  },
  {
   "cell_type": "code",
   "execution_count": 23,
   "metadata": {},
   "outputs": [
    {
     "name": "stdout",
     "output_type": "stream",
     "text": [
      "customer    1.000000\n",
      "upgraded    0.266606\n",
      "age         0.126768\n",
      "score2      0.057003\n",
      "category    0.012293\n",
      "gender      0.007692\n",
      "score3     -0.019022\n",
      "score1     -0.104302\n",
      "Name: customer, dtype: float64 \n",
      "\n"
     ]
    }
   ],
   "source": [
    "# attribute correlation\n",
    "corr = numeric_features.corr()\n",
    "print (corr['customer'].sort_values(ascending=False), '\\n')"
   ]
  },
  {
   "cell_type": "code",
   "execution_count": null,
   "metadata": {
    "collapsed": true
   },
   "outputs": [],
   "source": []
  },
  {
   "cell_type": "markdown",
   "metadata": {},
   "source": [
    "#### Training and Validation dataset"
   ]
  },
  {
   "cell_type": "code",
   "execution_count": 24,
   "metadata": {
    "collapsed": true
   },
   "outputs": [],
   "source": [
    "# create the train dataset of known customers\n",
    "df_customers = df_data[df_data['customer']==1]"
   ]
  },
  {
   "cell_type": "code",
   "execution_count": 25,
   "metadata": {
    "collapsed": true
   },
   "outputs": [],
   "source": [
    "# create the test dataset of potential customers\n",
    "df_non_customers = df_data[df_data['customer']==0]"
   ]
  },
  {
   "cell_type": "code",
   "execution_count": 26,
   "metadata": {
    "collapsed": true
   },
   "outputs": [],
   "source": [
    "# Store the identifier\n",
    "df_non_customers_ID = df_non_customers['ID']\n",
    "df_customers_ID = df_customers['ID']"
   ]
  },
  {
   "cell_type": "code",
   "execution_count": 27,
   "metadata": {
    "collapsed": true
   },
   "outputs": [],
   "source": [
    "# Drop the Id and customer values from the dataset\n",
    "#df_non_customers = df_non_customers.drop(['ID','customer','age','contract_length','score3'],axis=1)\n",
    "#df_customers = df_customers.drop(['ID','customer','age','contract_length','score3'],axis=1) "
   ]
  },
  {
   "cell_type": "code",
   "execution_count": 28,
   "metadata": {
    "collapsed": true
   },
   "outputs": [],
   "source": [
    "# Drop the Id and customer values from the dataset\n",
    "df_non_customers = df_non_customers.drop(['ID','customer'],axis=1)\n",
    "df_customers = df_customers.drop(['ID','customer'],axis=1) "
   ]
  },
  {
   "cell_type": "code",
   "execution_count": 29,
   "metadata": {
    "collapsed": true
   },
   "outputs": [],
   "source": [
    "## Convert dataframe into list and then into a numpy array\n",
    "train = df_customers.values.tolist() \n",
    "train = np.array(train)"
   ]
  },
  {
   "cell_type": "code",
   "execution_count": 30,
   "metadata": {
    "collapsed": true
   },
   "outputs": [],
   "source": [
    "## Convert dataframe into list and then into a numpy array\n",
    "test = df_non_customers.values.tolist() \n",
    "test = np.array(test)"
   ]
  },
  {
   "cell_type": "code",
   "execution_count": 31,
   "metadata": {},
   "outputs": [
    {
     "data": {
      "image/png": "[encoded data removed]",
      "text/plain": [
       "<matplotlib.figure.Figure at 0x11df611d0>"
      ]
     },
     "metadata": {
      "needs_background": "light"
     },
     "output_type": "display_data"
    }
   ],
   "source": [
    "# Using the elbow method to find the optimal number of clusters\n",
    "from sklearn.cluster import KMeans\n",
    "wcss = []\n",
    "for i in range(1, 11):\n",
    "    kmeans = KMeans(n_clusters = i, init = 'k-means++', random_state = 42)\n",
    "    kmeans.fit(train)\n",
    "    wcss.append(kmeans.inertia_)\n",
    "plt.plot(range(1, 11), wcss)\n",
    "plt.title('The Elbow Method')\n",
    "plt.xlabel('Number of clusters')\n",
    "plt.ylabel('WCSS')\n",
    "plt.show()"
   ]
  },
  {
   "cell_type": "code",
   "execution_count": 32,
   "metadata": {
    "collapsed": true
   },
   "outputs": [],
   "source": [
    "# Fitting K-Means to the dataset\n",
    "kmeans = KMeans(n_clusters = 3, init = 'k-means++', random_state = 42)\n",
    "pred = kmeans.fit_predict(train)\n"
   ]
  },
  {
   "cell_type": "code",
   "execution_count": 35,
   "metadata": {},
   "outputs": [
    {
     "data": {
      "text/plain": [
       "28065"
      ]
     },
     "execution_count": 35,
     "metadata": {},
     "output_type": "execute_result"
    }
   ],
   "source": [
    "len(pred)"
   ]
  },
  {
   "cell_type": "code",
   "execution_count": 36,
   "metadata": {
    "collapsed": true
   },
   "outputs": [],
   "source": [
    "# Fitting K-Means to the dataset\n",
    "#kmeans = KMeans(n_clusters = 3, init = 'k-means++', random_state = 42)\n",
    "#kmeans.fit(train)\n",
    "#pred = kmeans.predict(test)"
   ]
  },
  {
   "cell_type": "code",
   "execution_count": 37,
   "metadata": {
    "collapsed": true
   },
   "outputs": [],
   "source": [
    "# Fitting K-Means to the test dataset\n",
    "from sklearn.cluster import KMeans\n",
    "kmeans_test = KMeans(n_clusters = 3, init = 'k-means++', random_state = 42)\n",
    "kmeans_test.fit(train)\n",
    "pred_test = kmeans_test.predict(test)"
   ]
  },
  {
   "cell_type": "code",
   "execution_count": null,
   "metadata": {
    "collapsed": true
   },
   "outputs": [],
   "source": []
  },
  {
   "cell_type": "code",
   "execution_count": 55,
   "metadata": {},
   "outputs": [
    {
     "data": {
      "text/plain": [
       "array([2, 2, 2, ..., 0, 0, 0], dtype=int32)"
      ]
     },
     "execution_count": 55,
     "metadata": {},
     "output_type": "execute_result"
    }
   ],
   "source": [
    "kmeans.labels_"
   ]
  },
  {
   "cell_type": "code",
   "execution_count": 39,
   "metadata": {},
   "outputs": [
    {
     "data": {
      "text/plain": [
       "array([2, 2, 2, ..., 0, 0, 0], dtype=int32)"
      ]
     },
     "execution_count": 39,
     "metadata": {},
     "output_type": "execute_result"
    }
   ],
   "source": [
    "kmeans_test.labels_"
   ]
  },
  {
   "cell_type": "code",
   "execution_count": 42,
   "metadata": {},
   "outputs": [
    {
     "data": {
      "text/plain": [
       "28065"
      ]
     },
     "execution_count": 42,
     "metadata": {},
     "output_type": "execute_result"
    }
   ],
   "source": [
    "len(pred)"
   ]
  },
  {
   "cell_type": "code",
   "execution_count": 43,
   "metadata": {},
   "outputs": [
    {
     "data": {
      "text/plain": [
       "211723"
      ]
     },
     "execution_count": 43,
     "metadata": {},
     "output_type": "execute_result"
    }
   ],
   "source": [
    "len(pred_test)"
   ]
  },
  {
   "cell_type": "code",
   "execution_count": 44,
   "metadata": {
    "collapsed": true
   },
   "outputs": [],
   "source": [
    "df_customers['pred_cluster'] = pred"
   ]
  },
  {
   "cell_type": "code",
   "execution_count": 45,
   "metadata": {
    "collapsed": true
   },
   "outputs": [],
   "source": [
    "df_non_customers['pred_cluster'] = pred_test"
   ]
  },
  {
   "cell_type": "code",
   "execution_count": 50,
   "metadata": {},
   "outputs": [
    {
     "data": {
      "text/html": [
       "<div>\n",
       "<style scoped>\n",
       "    .dataframe tbody tr th:only-of-type {\n",
       "        vertical-align: middle;\n",
       "    }\n",
       "\n",
       "    .dataframe tbody tr th {\n",
       "        vertical-align: top;\n",
       "    }\n",
       "\n",
       "    .dataframe thead th {\n",
       "        text-align: right;\n",
       "    }\n",
       "</style>\n",
       "<table border=\"1\" class=\"dataframe\">\n",
       "  <thead>\n",
       "    <tr style=\"text-align: right;\">\n",
       "      <th></th>\n",
       "      <th>Unnamed: 0</th>\n",
       "      <th>age</th>\n",
       "      <th>upgraded</th>\n",
       "      <th>gender</th>\n",
       "      <th>category</th>\n",
       "      <th>score1</th>\n",
       "      <th>score2</th>\n",
       "      <th>score3</th>\n",
       "      <th>pred_cluster</th>\n",
       "    </tr>\n",
       "  </thead>\n",
       "  <tbody>\n",
       "    <tr>\n",
       "      <th>687</th>\n",
       "      <td>688</td>\n",
       "      <td>42</td>\n",
       "      <td>1</td>\n",
       "      <td>1</td>\n",
       "      <td>1</td>\n",
       "      <td>4.072271</td>\n",
       "      <td>1.302668</td>\n",
       "      <td>-0.254783</td>\n",
       "      <td>2</td>\n",
       "    </tr>\n",
       "    <tr>\n",
       "      <th>688</th>\n",
       "      <td>689</td>\n",
       "      <td>41</td>\n",
       "      <td>1</td>\n",
       "      <td>1</td>\n",
       "      <td>1</td>\n",
       "      <td>4.265342</td>\n",
       "      <td>1.159582</td>\n",
       "      <td>-0.268129</td>\n",
       "      <td>2</td>\n",
       "    </tr>\n",
       "    <tr>\n",
       "      <th>689</th>\n",
       "      <td>690</td>\n",
       "      <td>42</td>\n",
       "      <td>1</td>\n",
       "      <td>1</td>\n",
       "      <td>1</td>\n",
       "      <td>4.075194</td>\n",
       "      <td>1.307954</td>\n",
       "      <td>-0.246189</td>\n",
       "      <td>2</td>\n",
       "    </tr>\n",
       "    <tr>\n",
       "      <th>690</th>\n",
       "      <td>691</td>\n",
       "      <td>43</td>\n",
       "      <td>1</td>\n",
       "      <td>1</td>\n",
       "      <td>1</td>\n",
       "      <td>2.272706</td>\n",
       "      <td>3.243990</td>\n",
       "      <td>-0.001572</td>\n",
       "      <td>2</td>\n",
       "    </tr>\n",
       "    <tr>\n",
       "      <th>691</th>\n",
       "      <td>692</td>\n",
       "      <td>40</td>\n",
       "      <td>1</td>\n",
       "      <td>1</td>\n",
       "      <td>1</td>\n",
       "      <td>4.342194</td>\n",
       "      <td>1.217905</td>\n",
       "      <td>-0.173912</td>\n",
       "      <td>2</td>\n",
       "    </tr>\n",
       "  </tbody>\n",
       "</table>\n",
       "</div>"
      ],
      "text/plain": [
       "     Unnamed: 0  age  upgraded  gender  category    score1    score2  \\\n",
       "687         688   42         1       1         1  4.072271  1.302668   \n",
       "688         689   41         1       1         1  4.265342  1.159582   \n",
       "689         690   42         1       1         1  4.075194  1.307954   \n",
       "690         691   43         1       1         1  2.272706  3.243990   \n",
       "691         692   40         1       1         1  4.342194  1.217905   \n",
       "\n",
       "       score3  pred_cluster  \n",
       "687 -0.254783             2  \n",
       "688 -0.268129             2  \n",
       "689 -0.246189             2  \n",
       "690 -0.001572             2  \n",
       "691 -0.173912             2  "
      ]
     },
     "execution_count": 50,
     "metadata": {},
     "output_type": "execute_result"
    }
   ],
   "source": [
    "df_customers.head()"
   ]
  },
  {
   "cell_type": "code",
   "execution_count": 49,
   "metadata": {},
   "outputs": [
    {
     "data": {
      "text/html": [
       "<div>\n",
       "<style scoped>\n",
       "    .dataframe tbody tr th:only-of-type {\n",
       "        vertical-align: middle;\n",
       "    }\n",
       "\n",
       "    .dataframe tbody tr th {\n",
       "        vertical-align: top;\n",
       "    }\n",
       "\n",
       "    .dataframe thead th {\n",
       "        text-align: right;\n",
       "    }\n",
       "</style>\n",
       "<table border=\"1\" class=\"dataframe\">\n",
       "  <thead>\n",
       "    <tr style=\"text-align: right;\">\n",
       "      <th></th>\n",
       "      <th>Unnamed: 0</th>\n",
       "      <th>age</th>\n",
       "      <th>upgraded</th>\n",
       "      <th>gender</th>\n",
       "      <th>category</th>\n",
       "      <th>score1</th>\n",
       "      <th>score2</th>\n",
       "      <th>score3</th>\n",
       "      <th>pred_cluster</th>\n",
       "    </tr>\n",
       "  </thead>\n",
       "  <tbody>\n",
       "    <tr>\n",
       "      <th>0</th>\n",
       "      <td>1</td>\n",
       "      <td>41</td>\n",
       "      <td>0</td>\n",
       "      <td>1</td>\n",
       "      <td>1</td>\n",
       "      <td>4.155778</td>\n",
       "      <td>1.303375</td>\n",
       "      <td>-0.003228</td>\n",
       "      <td>2</td>\n",
       "    </tr>\n",
       "    <tr>\n",
       "      <th>1</th>\n",
       "      <td>2</td>\n",
       "      <td>42</td>\n",
       "      <td>0</td>\n",
       "      <td>1</td>\n",
       "      <td>2</td>\n",
       "      <td>3.552356</td>\n",
       "      <td>1.719870</td>\n",
       "      <td>-0.000300</td>\n",
       "      <td>2</td>\n",
       "    </tr>\n",
       "    <tr>\n",
       "      <th>2</th>\n",
       "      <td>3</td>\n",
       "      <td>40</td>\n",
       "      <td>0</td>\n",
       "      <td>1</td>\n",
       "      <td>2</td>\n",
       "      <td>3.551545</td>\n",
       "      <td>2.055290</td>\n",
       "      <td>-0.000003</td>\n",
       "      <td>2</td>\n",
       "    </tr>\n",
       "    <tr>\n",
       "      <th>3</th>\n",
       "      <td>4</td>\n",
       "      <td>40</td>\n",
       "      <td>0</td>\n",
       "      <td>1</td>\n",
       "      <td>2</td>\n",
       "      <td>4.202698</td>\n",
       "      <td>1.151331</td>\n",
       "      <td>-0.010516</td>\n",
       "      <td>2</td>\n",
       "    </tr>\n",
       "    <tr>\n",
       "      <th>4</th>\n",
       "      <td>5</td>\n",
       "      <td>44</td>\n",
       "      <td>0</td>\n",
       "      <td>1</td>\n",
       "      <td>2</td>\n",
       "      <td>2.818966</td>\n",
       "      <td>2.169682</td>\n",
       "      <td>-0.000348</td>\n",
       "      <td>2</td>\n",
       "    </tr>\n",
       "  </tbody>\n",
       "</table>\n",
       "</div>"
      ],
      "text/plain": [
       "   Unnamed: 0  age  upgraded  gender  category    score1    score2    score3  \\\n",
       "0           1   41         0       1         1  4.155778  1.303375 -0.003228   \n",
       "1           2   42         0       1         2  3.552356  1.719870 -0.000300   \n",
       "2           3   40         0       1         2  3.551545  2.055290 -0.000003   \n",
       "3           4   40         0       1         2  4.202698  1.151331 -0.010516   \n",
       "4           5   44         0       1         2  2.818966  2.169682 -0.000348   \n",
       "\n",
       "   pred_cluster  \n",
       "0             2  \n",
       "1             2  \n",
       "2             2  \n",
       "3             2  \n",
       "4             2  "
      ]
     },
     "execution_count": 49,
     "metadata": {},
     "output_type": "execute_result"
    }
   ],
   "source": [
    "df_non_customers.head()"
   ]
  },
  {
   "cell_type": "code",
   "execution_count": null,
   "metadata": {
    "collapsed": true
   },
   "outputs": [],
   "source": [
    "df_customers.to_csv('non_customers',index=False)"
   ]
  },
  {
   "cell_type": "code",
   "execution_count": 51,
   "metadata": {},
   "outputs": [
    {
     "data": {
      "text/plain": [
       "array([2, 1, 0])"
      ]
     },
     "execution_count": 51,
     "metadata": {},
     "output_type": "execute_result"
    }
   ],
   "source": [
    "df_customers.pred_cluster.unique()"
   ]
  },
  {
   "cell_type": "code",
   "execution_count": null,
   "metadata": {},
   "outputs": [],
   "source": []
  },
  {
   "cell_type": "code",
   "execution_count": 52,
   "metadata": {},
   "outputs": [
    {
     "name": "stdout",
     "output_type": "stream",
     "text": [
      "pred_cluster\n",
      "0     7430\n",
      "1    10181\n",
      "2    10454\n",
      "dtype: int64\n"
     ]
    }
   ],
   "source": [
    "# customer class distribution\n",
    "print(df_customers.groupby('pred_cluster').size())"
   ]
  },
  {
   "cell_type": "code",
   "execution_count": 53,
   "metadata": {},
   "outputs": [
    {
     "name": "stdout",
     "output_type": "stream",
     "text": [
      "pred_cluster\n",
      "0    78827\n",
      "1    62841\n",
      "2    70055\n",
      "dtype: int64\n"
     ]
    }
   ],
   "source": [
    "# customer class distribution\n",
    "print(df_non_customers.groupby('pred_cluster').size())"
   ]
  },
  {
   "cell_type": "code",
   "execution_count": null,
   "metadata": {
    "collapsed": true
   },
   "outputs": [],
   "source": []
  },
  {
   "cell_type": "code",
   "execution_count": 56,
   "metadata": {},
   "outputs": [
    {
     "data": {
      "text/plain": [
       "array([ 190134.88923284,  116928.23926923,   44090.25903961])"
      ]
     },
     "execution_count": 56,
     "metadata": {},
     "output_type": "execute_result"
    }
   ],
   "source": [
    "kmeans_test.cluster_centers_[:, 0]"
   ]
  },
  {
   "cell_type": "code",
   "execution_count": 57,
   "metadata": {},
   "outputs": [
    {
     "data": {
      "text/plain": [
       "array([ 32.57335128,  35.01601022,  37.36368854])"
      ]
     },
     "execution_count": 57,
     "metadata": {},
     "output_type": "execute_result"
    }
   ],
   "source": [
    "kmeans_test.cluster_centers_[:, 1]"
   ]
  },
  {
   "cell_type": "code",
   "execution_count": null,
   "metadata": {
    "collapsed": true
   },
   "outputs": [],
   "source": []
  }
 ],
 "metadata": {
  "kernelspec": {
   "display_name": "Python 3",
   "language": "python",
   "name": "python3"
  },
  "language_info": {
   "codemirror_mode": {
    "name": "ipython",
    "version": 3
   },
   "file_extension": ".py",
   "mimetype": "text/x-python",
   "name": "python",
   "nbconvert_exporter": "python",
   "pygments_lexer": "ipython3",
   "version": "3.6.3"
  }
 },
 "nbformat": 4,
 "nbformat_minor": 2
}
