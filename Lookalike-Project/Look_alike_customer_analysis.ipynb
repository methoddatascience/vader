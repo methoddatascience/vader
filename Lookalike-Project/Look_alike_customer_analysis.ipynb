{
  "nbformat": 4,
  "nbformat_minor": 0,
  "metadata": {
    "colab": {
      "name": "Look alike customer analysis",
      "version": "0.3.2",
      "provenance": [],
      "collapsed_sections": []
    },
    "kernelspec": {
      "name": "python2",
      "display_name": "Python 2"
    }
  },
  "cells": [
    {
      "metadata": {
        "id": "X1klZk5Z5PT5",
        "colab_type": "code",
        "outputId": "3674050a-ce43-4097-d747-b663e4bdee7e",
        "colab": {
          "base_uri": "https://localhost:8080/",
          "height": 570
        }
      },
      "cell_type": "code",
      "source": [
        "!pip install dash==0.39.0\n",
        "\n"
      ],
      "execution_count": 7,
      "outputs": [
        {
          "output_type": "stream",
          "text": [
            "Requirement already satisfied: dash==0.39.0 in /usr/local/lib/python2.7/dist-packages (0.39.0)\n",
            "Requirement already satisfied: flask-compress in /usr/local/lib/python2.7/dist-packages (from dash==0.39.0) (1.4.0)\n",
            "Requirement already satisfied: dash-renderer==0.20.0 in /usr/local/lib/python2.7/dist-packages (from dash==0.39.0) (0.20.0)\n",
            "Requirement already satisfied: dash-html-components==0.14.0 in /usr/local/lib/python2.7/dist-packages (from dash==0.39.0) (0.14.0)\n",
            "Requirement already satisfied: plotly in /usr/local/lib/python2.7/dist-packages (from dash==0.39.0) (3.6.1)\n",
            "Requirement already satisfied: Flask>=0.12 in /usr/local/lib/python2.7/dist-packages (from dash==0.39.0) (1.0.2)\n",
            "Requirement already satisfied: dash-table==3.6.0 in /usr/local/lib/python2.7/dist-packages (from dash==0.39.0) (3.6.0)\n",
            "Requirement already satisfied: dash-core-components==0.44.0 in /usr/local/lib/python2.7/dist-packages (from dash==0.39.0) (0.44.0)\n",
            "Requirement already satisfied: six in /usr/local/lib/python2.7/dist-packages (from plotly->dash==0.39.0) (1.11.0)\n",
            "Requirement already satisfied: decorator>=4.0.6 in /usr/local/lib/python2.7/dist-packages (from plotly->dash==0.39.0) (4.4.0)\n",
            "Requirement already satisfied: requests in /usr/local/lib/python2.7/dist-packages (from plotly->dash==0.39.0) (2.18.4)\n",
            "Requirement already satisfied: nbformat>=4.2 in /usr/local/lib/python2.7/dist-packages (from plotly->dash==0.39.0) (4.4.0)\n",
            "Requirement already satisfied: retrying>=1.3.3 in /usr/local/lib/python2.7/dist-packages (from plotly->dash==0.39.0) (1.3.3)\n",
            "Requirement already satisfied: pytz in /usr/local/lib/python2.7/dist-packages (from plotly->dash==0.39.0) (2018.9)\n",
            "Requirement already satisfied: Werkzeug>=0.14 in /usr/local/lib/python2.7/dist-packages (from Flask>=0.12->dash==0.39.0) (0.15.2)\n",
            "Requirement already satisfied: click>=5.1 in /usr/local/lib/python2.7/dist-packages (from Flask>=0.12->dash==0.39.0) (7.0)\n",
            "Requirement already satisfied: Jinja2>=2.10 in /usr/local/lib/python2.7/dist-packages (from Flask>=0.12->dash==0.39.0) (2.10)\n",
            "Requirement already satisfied: itsdangerous>=0.24 in /usr/local/lib/python2.7/dist-packages (from Flask>=0.12->dash==0.39.0) (1.1.0)\n",
            "Requirement already satisfied: idna<2.7,>=2.5 in /usr/local/lib/python2.7/dist-packages (from requests->plotly->dash==0.39.0) (2.6)\n",
            "Requirement already satisfied: urllib3<1.23,>=1.21.1 in /usr/local/lib/python2.7/dist-packages (from requests->plotly->dash==0.39.0) (1.22)\n",
            "Requirement already satisfied: certifi>=2017.4.17 in /usr/local/lib/python2.7/dist-packages (from requests->plotly->dash==0.39.0) (2019.3.9)\n",
            "Requirement already satisfied: chardet<3.1.0,>=3.0.2 in /usr/local/lib/python2.7/dist-packages (from requests->plotly->dash==0.39.0) (3.0.4)\n",
            "Requirement already satisfied: traitlets>=4.1 in /usr/local/lib/python2.7/dist-packages (from nbformat>=4.2->plotly->dash==0.39.0) (4.3.2)\n",
            "Requirement already satisfied: jupyter-core in /usr/local/lib/python2.7/dist-packages (from nbformat>=4.2->plotly->dash==0.39.0) (4.4.0)\n",
            "Requirement already satisfied: jsonschema!=2.5.0,>=2.4 in /usr/local/lib/python2.7/dist-packages (from nbformat>=4.2->plotly->dash==0.39.0) (2.6.0)\n",
            "Requirement already satisfied: ipython-genutils in /usr/local/lib/python2.7/dist-packages (from nbformat>=4.2->plotly->dash==0.39.0) (0.2.0)\n",
            "Requirement already satisfied: MarkupSafe>=0.23 in /usr/local/lib/python2.7/dist-packages (from Jinja2>=2.10->Flask>=0.12->dash==0.39.0) (1.1.1)\n",
            "Requirement already satisfied: enum34; python_version == \"2.7\" in /usr/local/lib/python2.7/dist-packages (from traitlets>=4.1->nbformat>=4.2->plotly->dash==0.39.0) (1.1.6)\n",
            "Requirement already satisfied: functools32; python_version == \"2.7\" in /usr/local/lib/python2.7/dist-packages (from jsonschema!=2.5.0,>=2.4->nbformat>=4.2->plotly->dash==0.39.0) (3.2.3.post2)\n"
          ],
          "name": "stdout"
        }
      ]
    },
    {
      "metadata": {
        "id": "hWs_zn6gSdHd",
        "colab_type": "code",
        "outputId": "88797b3f-ea9d-4167-f4f7-ed067521e9b5",
        "colab": {
          "base_uri": "https://localhost:8080/",
          "height": 35
        }
      },
      "cell_type": "code",
      "source": [
        "\n",
        "!pip install dash-daq==0.1.0"
      ],
      "execution_count": 8,
      "outputs": [
        {
          "output_type": "stream",
          "text": [
            "Requirement already satisfied: dash-daq==0.1.0 in /usr/local/lib/python2.7/dist-packages (0.1.0)\n"
          ],
          "name": "stdout"
        }
      ]
    },
    {
      "metadata": {
        "id": "FE4ZoxheSslC",
        "colab_type": "code",
        "colab": {}
      },
      "cell_type": "code",
      "source": [
        "import dash\n",
        "import dash_core_components as dcc\n",
        "import dash_html_components as html"
      ],
      "execution_count": 0,
      "outputs": []
    },
    {
      "metadata": {
        "id": "TtE1GsbqS5xX",
        "colab_type": "code",
        "colab": {}
      },
      "cell_type": "code",
      "source": [
        "external_stylesheets = ['https://codepen.io/chriddyp/pen/bWLwgP.css']\n",
        "\n",
        "app = dash.Dash(__name__, external_stylesheets=external_stylesheets)"
      ],
      "execution_count": 0,
      "outputs": []
    },
    {
      "metadata": {
        "id": "YodFqgyDrEhk",
        "colab_type": "code",
        "colab": {}
      },
      "cell_type": "code",
      "source": [
        "import pandas as pd\n"
      ],
      "execution_count": 0,
      "outputs": []
    },
    {
      "metadata": {
        "id": "7_jgYESYrOcP",
        "colab_type": "code",
        "outputId": "17caf729-9d78-4428-873f-309b741736b4",
        "colab": {
          "resources": {
            "http://localhost:8080/nbextensions/google.colab/files.js": {
              "data": "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",
              "ok": true,
              "headers": [
                [
                  "content-type",
                  "application/javascript"
                ]
              ],
              "status": 200,
              "status_text": "OK"
            }
          },
          "base_uri": "https://localhost:8080/",
          "height": 95
        }
      },
      "cell_type": "code",
      "source": [
        "from google.colab import files\n",
        "\n",
        "uploaded = files.upload()\n",
        "\n",
        "for fn in uploaded.keys():\n",
        "  print('User uploaded file \"{name}\" with length {length} bytes'.format(\n",
        "  name=fn, length=len(uploaded[fn])))"
      ],
      "execution_count": 12,
      "outputs": [
        {
          "output_type": "display_data",
          "data": {
            "text/plain": [
              "<IPython.core.display.HTML object>"
            ],
            "text/html": [
              "\n",
              "     <input type=\"file\" id=\"files-2d69ab5d-feff-41f6-8f6f-52f44dc4d3e0\" name=\"files[]\" multiple disabled />\n",
              "     <output id=\"result-2d69ab5d-feff-41f6-8f6f-52f44dc4d3e0\">\n",
              "      Upload widget is only available when the cell has been executed in the\n",
              "      current browser session. Please rerun this cell to enable.\n",
              "      </output>\n",
              "      <script src=\"/nbextensions/google.colab/files.js\"></script> "
            ]
          },
          "metadata": {
            "tags": []
          }
        },
        {
          "output_type": "stream",
          "text": [
            "Saving red_crown_sample_data1.csv to red_crown_sample_data1 (1).csv\n",
            "User uploaded file \"red_crown_sample_data1.csv\" with length 21996498 bytes\n"
          ],
          "name": "stdout"
        }
      ]
    },
    {
      "metadata": {
        "id": "c-tIJ4tvzHut",
        "colab_type": "code",
        "colab": {}
      },
      "cell_type": "code",
      "source": [
        "df_data = pd.read_csv('red_crown_sample_data1.csv')"
      ],
      "execution_count": 0,
      "outputs": []
    },
    {
      "metadata": {
        "id": "KJiCihErzdm0",
        "colab_type": "code",
        "colab": {
          "base_uri": "https://localhost:8080/",
          "height": 300
        },
        "outputId": "0764487e-8720-410b-fbdf-3dc6fa8a4c92"
      },
      "cell_type": "code",
      "source": [
        "df_data.describe()"
      ],
      "execution_count": 14,
      "outputs": [
        {
          "output_type": "execute_result",
          "data": {
            "text/html": [
              "<div>\n",
              "<style scoped>\n",
              "    .dataframe tbody tr th:only-of-type {\n",
              "        vertical-align: middle;\n",
              "    }\n",
              "\n",
              "    .dataframe tbody tr th {\n",
              "        vertical-align: top;\n",
              "    }\n",
              "\n",
              "    .dataframe thead th {\n",
              "        text-align: right;\n",
              "    }\n",
              "</style>\n",
              "<table border=\"1\" class=\"dataframe\">\n",
              "  <thead>\n",
              "    <tr style=\"text-align: right;\">\n",
              "      <th></th>\n",
              "      <th>Unnamed: 0</th>\n",
              "      <th>age</th>\n",
              "      <th>contract_length</th>\n",
              "      <th>category</th>\n",
              "      <th>score1</th>\n",
              "      <th>score2</th>\n",
              "      <th>score3</th>\n",
              "    </tr>\n",
              "  </thead>\n",
              "  <tbody>\n",
              "    <tr>\n",
              "      <th>count</th>\n",
              "      <td>239788.000000</td>\n",
              "      <td>239788.000000</td>\n",
              "      <td>68263.000000</td>\n",
              "      <td>239788.000000</td>\n",
              "      <td>239788.000000</td>\n",
              "      <td>239788.000000</td>\n",
              "      <td>239788.000000</td>\n",
              "    </tr>\n",
              "    <tr>\n",
              "      <th>mean</th>\n",
              "      <td>119894.500000</td>\n",
              "      <td>34.204689</td>\n",
              "      <td>2081.781185</td>\n",
              "      <td>1.621895</td>\n",
              "      <td>4.918111</td>\n",
              "      <td>1.118694</td>\n",
              "      <td>-1.516862</td>\n",
              "    </tr>\n",
              "    <tr>\n",
              "      <th>std</th>\n",
              "      <td>69220.977512</td>\n",
              "      <td>2.984439</td>\n",
              "      <td>1225.355978</td>\n",
              "      <td>0.484915</td>\n",
              "      <td>0.517630</td>\n",
              "      <td>0.599922</td>\n",
              "      <td>1.025697</td>\n",
              "    </tr>\n",
              "    <tr>\n",
              "      <th>min</th>\n",
              "      <td>1.000000</td>\n",
              "      <td>9.000000</td>\n",
              "      <td>1.000000</td>\n",
              "      <td>1.000000</td>\n",
              "      <td>2.149353</td>\n",
              "      <td>0.361095</td>\n",
              "      <td>-10.936312</td>\n",
              "    </tr>\n",
              "    <tr>\n",
              "      <th>25%</th>\n",
              "      <td>59947.750000</td>\n",
              "      <td>32.000000</td>\n",
              "      <td>1059.000000</td>\n",
              "      <td>1.000000</td>\n",
              "      <td>4.678020</td>\n",
              "      <td>0.711478</td>\n",
              "      <td>-2.027088</td>\n",
              "    </tr>\n",
              "    <tr>\n",
              "      <th>50%</th>\n",
              "      <td>119894.500000</td>\n",
              "      <td>34.000000</td>\n",
              "      <td>2036.000000</td>\n",
              "      <td>2.000000</td>\n",
              "      <td>5.033811</td>\n",
              "      <td>0.908702</td>\n",
              "      <td>-1.397082</td>\n",
              "    </tr>\n",
              "    <tr>\n",
              "      <th>75%</th>\n",
              "      <td>179841.250000</td>\n",
              "      <td>36.000000</td>\n",
              "      <td>3010.000000</td>\n",
              "      <td>2.000000</td>\n",
              "      <td>5.285969</td>\n",
              "      <td>1.347086</td>\n",
              "      <td>-0.787911</td>\n",
              "    </tr>\n",
              "    <tr>\n",
              "      <th>max</th>\n",
              "      <td>239788.000000</td>\n",
              "      <td>45.000000</td>\n",
              "      <td>6234.000000</td>\n",
              "      <td>2.000000</td>\n",
              "      <td>6.560284</td>\n",
              "      <td>5.713280</td>\n",
              "      <td>0.000000</td>\n",
              "    </tr>\n",
              "  </tbody>\n",
              "</table>\n",
              "</div>"
            ],
            "text/plain": [
              "          Unnamed: 0            age  contract_length       category  \\\n",
              "count  239788.000000  239788.000000     68263.000000  239788.000000   \n",
              "mean   119894.500000      34.204689      2081.781185       1.621895   \n",
              "std     69220.977512       2.984439      1225.355978       0.484915   \n",
              "min         1.000000       9.000000         1.000000       1.000000   \n",
              "25%     59947.750000      32.000000      1059.000000       1.000000   \n",
              "50%    119894.500000      34.000000      2036.000000       2.000000   \n",
              "75%    179841.250000      36.000000      3010.000000       2.000000   \n",
              "max    239788.000000      45.000000      6234.000000       2.000000   \n",
              "\n",
              "              score1         score2         score3  \n",
              "count  239788.000000  239788.000000  239788.000000  \n",
              "mean        4.918111       1.118694      -1.516862  \n",
              "std         0.517630       0.599922       1.025697  \n",
              "min         2.149353       0.361095     -10.936312  \n",
              "25%         4.678020       0.711478      -2.027088  \n",
              "50%         5.033811       0.908702      -1.397082  \n",
              "75%         5.285969       1.347086      -0.787911  \n",
              "max         6.560284       5.713280       0.000000  "
            ]
          },
          "metadata": {
            "tags": []
          },
          "execution_count": 14
        }
      ]
    },
    {
      "metadata": {
        "id": "c28d8PazznrY",
        "colab_type": "code",
        "colab": {
          "base_uri": "https://localhost:8080/",
          "height": 35
        },
        "outputId": "03653501-a837-431b-ff4f-e15563a882c0"
      },
      "cell_type": "code",
      "source": [
        "df_data.shape"
      ],
      "execution_count": 15,
      "outputs": [
        {
          "output_type": "execute_result",
          "data": {
            "text/plain": [
              "(239788, 13)"
            ]
          },
          "metadata": {
            "tags": []
          },
          "execution_count": 15
        }
      ]
    },
    {
      "metadata": {
        "id": "R-K-UPxIzy-9",
        "colab_type": "code",
        "colab": {
          "base_uri": "https://localhost:8080/",
          "height": 348
        },
        "outputId": "32c2e1c4-14d9-43ac-db11-1165d402a85b"
      },
      "cell_type": "code",
      "source": [
        "df_data.info()"
      ],
      "execution_count": 16,
      "outputs": [
        {
          "output_type": "stream",
          "text": [
            "<class 'pandas.core.frame.DataFrame'>\n",
            "RangeIndex: 239788 entries, 0 to 239787\n",
            "Data columns (total 13 columns):\n",
            "Unnamed: 0         239788 non-null int64\n",
            "ID                 239788 non-null object\n",
            "age                239788 non-null int64\n",
            "submission_date    239664 non-null object\n",
            "contract_length    68263 non-null float64\n",
            "upgraded           239788 non-null bool\n",
            "gender             239788 non-null object\n",
            "category           239788 non-null int64\n",
            "score1             239788 non-null float64\n",
            "score2             239788 non-null float64\n",
            "score3             239788 non-null float64\n",
            "first_contact      86501 non-null object\n",
            "customer           239788 non-null bool\n",
            "dtypes: bool(2), float64(4), int64(3), object(4)\n",
            "memory usage: 20.6+ MB\n"
          ],
          "name": "stdout"
        }
      ]
    },
    {
      "metadata": {
        "id": "n_PA2K031BXN",
        "colab_type": "code",
        "colab": {
          "base_uri": "https://localhost:8080/",
          "height": 274
        },
        "outputId": "82f3c7cc-9e91-4ffe-e050-6fa960ac6804"
      },
      "cell_type": "code",
      "source": [
        "\n",
        "# Checking for missing values\n",
        "df_data.isnull().sum()"
      ],
      "execution_count": 17,
      "outputs": [
        {
          "output_type": "execute_result",
          "data": {
            "text/plain": [
              "Unnamed: 0              0\n",
              "ID                      0\n",
              "age                     0\n",
              "submission_date       124\n",
              "contract_length    171525\n",
              "upgraded                0\n",
              "gender                  0\n",
              "category                0\n",
              "score1                  0\n",
              "score2                  0\n",
              "score3                  0\n",
              "first_contact      153287\n",
              "customer                0\n",
              "dtype: int64"
            ]
          },
          "metadata": {
            "tags": []
          },
          "execution_count": 17
        }
      ]
    },
    {
      "metadata": {
        "id": "jr1Gq1DB1Hdi",
        "colab_type": "code",
        "colab": {}
      },
      "cell_type": "code",
      "source": [
        "corr = df_data.corr()"
      ],
      "execution_count": 0,
      "outputs": []
    },
    {
      "metadata": {
        "id": "NiR_lyKhdM7q",
        "colab_type": "code",
        "colab": {
          "base_uri": "https://localhost:8080/",
          "height": 219
        },
        "outputId": "d4b2ea23-d261-47ec-fc6d-a04a7ac86ee7"
      },
      "cell_type": "code",
      "source": [
        "print (corr['customer'].sort_values(ascending=False))"
      ],
      "execution_count": 35,
      "outputs": [
        {
          "output_type": "stream",
          "text": [
            "customer           1.000000\n",
            "upgraded           0.266606\n",
            "age                0.126768\n",
            "score2             0.057003\n",
            "category           0.012293\n",
            "gender             0.007692\n",
            "score3            -0.019022\n",
            "Unnamed: 0        -0.056368\n",
            "contract_length   -0.088066\n",
            "score1            -0.104302\n",
            "Name: customer, dtype: float64\n"
          ],
          "name": "stdout"
        }
      ]
    },
    {
      "metadata": {
        "id": "K1sQoFI11zts",
        "colab_type": "code",
        "colab": {
          "base_uri": "https://localhost:8080/",
          "height": 90
        },
        "outputId": "1725b371-94b3-416d-b7b2-d640a6e41c0f"
      },
      "cell_type": "code",
      "source": [
        "print(df_data.groupby('customer').size())"
      ],
      "execution_count": 19,
      "outputs": [
        {
          "output_type": "stream",
          "text": [
            "customer\n",
            "False    211723\n",
            "True      28065\n",
            "dtype: int64\n"
          ],
          "name": "stdout"
        }
      ]
    },
    {
      "metadata": {
        "id": "VoGqOIhd9ahr",
        "colab_type": "code",
        "colab": {}
      },
      "cell_type": "code",
      "source": [
        "# remove NaN\n",
        "df_data['contract_length'].fillna(0, inplace=True)"
      ],
      "execution_count": 0,
      "outputs": []
    },
    {
      "metadata": {
        "id": "4XkHx0UFFrIK",
        "colab_type": "code",
        "colab": {
          "base_uri": "https://localhost:8080/",
          "height": 206
        },
        "outputId": "144142c2-37b7-428b-e5da-2df8dba91329"
      },
      "cell_type": "code",
      "source": [
        "\n",
        "df_data = df_data.drop(columns=['submission_date','first_contact'])\n",
        "df_data.head()\n",
        "\n"
      ],
      "execution_count": 22,
      "outputs": [
        {
          "output_type": "execute_result",
          "data": {
            "text/html": [
              "<div>\n",
              "<style scoped>\n",
              "    .dataframe tbody tr th:only-of-type {\n",
              "        vertical-align: middle;\n",
              "    }\n",
              "\n",
              "    .dataframe tbody tr th {\n",
              "        vertical-align: top;\n",
              "    }\n",
              "\n",
              "    .dataframe thead th {\n",
              "        text-align: right;\n",
              "    }\n",
              "</style>\n",
              "<table border=\"1\" class=\"dataframe\">\n",
              "  <thead>\n",
              "    <tr style=\"text-align: right;\">\n",
              "      <th></th>\n",
              "      <th>Unnamed: 0</th>\n",
              "      <th>ID</th>\n",
              "      <th>age</th>\n",
              "      <th>contract_length</th>\n",
              "      <th>upgraded</th>\n",
              "      <th>gender</th>\n",
              "      <th>category</th>\n",
              "      <th>score1</th>\n",
              "      <th>score2</th>\n",
              "      <th>score3</th>\n",
              "      <th>customer</th>\n",
              "    </tr>\n",
              "  </thead>\n",
              "  <tbody>\n",
              "    <tr>\n",
              "      <th>0</th>\n",
              "      <td>1</td>\n",
              "      <td>qzx1</td>\n",
              "      <td>41</td>\n",
              "      <td>2027.0</td>\n",
              "      <td>False</td>\n",
              "      <td>Female</td>\n",
              "      <td>1</td>\n",
              "      <td>4.155778</td>\n",
              "      <td>1.303375</td>\n",
              "      <td>-0.003228</td>\n",
              "      <td>False</td>\n",
              "    </tr>\n",
              "    <tr>\n",
              "      <th>1</th>\n",
              "      <td>2</td>\n",
              "      <td>qzx1</td>\n",
              "      <td>42</td>\n",
              "      <td>162.0</td>\n",
              "      <td>False</td>\n",
              "      <td>Female</td>\n",
              "      <td>2</td>\n",
              "      <td>3.552356</td>\n",
              "      <td>1.719870</td>\n",
              "      <td>-0.000300</td>\n",
              "      <td>False</td>\n",
              "    </tr>\n",
              "    <tr>\n",
              "      <th>2</th>\n",
              "      <td>3</td>\n",
              "      <td>qzx1</td>\n",
              "      <td>40</td>\n",
              "      <td>381.0</td>\n",
              "      <td>False</td>\n",
              "      <td>Female</td>\n",
              "      <td>2</td>\n",
              "      <td>3.551545</td>\n",
              "      <td>2.055290</td>\n",
              "      <td>-0.000003</td>\n",
              "      <td>False</td>\n",
              "    </tr>\n",
              "    <tr>\n",
              "      <th>3</th>\n",
              "      <td>4</td>\n",
              "      <td>qzx1</td>\n",
              "      <td>40</td>\n",
              "      <td>351.0</td>\n",
              "      <td>False</td>\n",
              "      <td>Female</td>\n",
              "      <td>2</td>\n",
              "      <td>4.202698</td>\n",
              "      <td>1.151331</td>\n",
              "      <td>-0.010516</td>\n",
              "      <td>False</td>\n",
              "    </tr>\n",
              "    <tr>\n",
              "      <th>4</th>\n",
              "      <td>5</td>\n",
              "      <td>qzx1</td>\n",
              "      <td>44</td>\n",
              "      <td>120.0</td>\n",
              "      <td>False</td>\n",
              "      <td>Female</td>\n",
              "      <td>2</td>\n",
              "      <td>2.818966</td>\n",
              "      <td>2.169682</td>\n",
              "      <td>-0.000348</td>\n",
              "      <td>False</td>\n",
              "    </tr>\n",
              "  </tbody>\n",
              "</table>\n",
              "</div>"
            ],
            "text/plain": [
              "   Unnamed: 0    ID  age  contract_length  upgraded  gender  category  \\\n",
              "0           1  qzx1   41           2027.0     False  Female         1   \n",
              "1           2  qzx1   42            162.0     False  Female         2   \n",
              "2           3  qzx1   40            381.0     False  Female         2   \n",
              "3           4  qzx1   40            351.0     False  Female         2   \n",
              "4           5  qzx1   44            120.0     False  Female         2   \n",
              "\n",
              "     score1    score2    score3  customer  \n",
              "0  4.155778  1.303375 -0.003228     False  \n",
              "1  3.552356  1.719870 -0.000300     False  \n",
              "2  3.551545  2.055290 -0.000003     False  \n",
              "3  4.202698  1.151331 -0.010516     False  \n",
              "4  2.818966  2.169682 -0.000348     False  "
            ]
          },
          "metadata": {
            "tags": []
          },
          "execution_count": 22
        }
      ]
    },
    {
      "metadata": {
        "id": "WPFiuwmVanT8",
        "colab_type": "code",
        "colab": {
          "base_uri": "https://localhost:8080/",
          "height": 35
        },
        "outputId": "2c3ac150-624a-4cb3-f2dd-92f88b967f58"
      },
      "cell_type": "code",
      "source": [
        "# fix missing values of contract_length\n",
        "# replace missing values with the average contract_length:\n",
        "df_data['contract_length'].fillna(df_data['contract_length'].mean(), inplace=True)\n",
        "df_data.contract_length.isna().sum()"
      ],
      "execution_count": 23,
      "outputs": [
        {
          "output_type": "execute_result",
          "data": {
            "text/plain": [
              "0"
            ]
          },
          "metadata": {
            "tags": []
          },
          "execution_count": 23
        }
      ]
    },
    {
      "metadata": {
        "id": "vUYwuIPvas_K",
        "colab_type": "code",
        "colab": {
          "base_uri": "https://localhost:8080/",
          "height": 35
        },
        "outputId": "1881350c-d298-4044-b0a1-82bd1e2a263a"
      },
      "cell_type": "code",
      "source": [
        "# convert bool attributes upgraded\n",
        "df_data['upgraded'] = df_data.upgraded.apply(lambda x: str(x))\n",
        "df_data['upgraded'] = df_data.upgraded.apply(lambda x: x.replace('False','0'))\n",
        "df_data['upgraded'] = df_data.upgraded.apply(lambda x: x.replace('True','1'))\n",
        "df_data.upgraded.unique()"
      ],
      "execution_count": 24,
      "outputs": [
        {
          "output_type": "execute_result",
          "data": {
            "text/plain": [
              "array(['0', '1'], dtype=object)"
            ]
          },
          "metadata": {
            "tags": []
          },
          "execution_count": 24
        }
      ]
    },
    {
      "metadata": {
        "id": "7QlWZ-JmcQwC",
        "colab_type": "code",
        "colab": {}
      },
      "cell_type": "code",
      "source": [
        "\n",
        "\n",
        "# convert upgraded data fron object to number\n",
        "df_data['upgraded'] = df_data.upgraded.apply(lambda x: int(x))\n",
        "\n"
      ],
      "execution_count": 0,
      "outputs": []
    },
    {
      "metadata": {
        "id": "nsYFpuZUcVKD",
        "colab_type": "code",
        "colab": {
          "base_uri": "https://localhost:8080/",
          "height": 35
        },
        "outputId": "ee4c3ea9-9aeb-44f0-c407-76b571e705df"
      },
      "cell_type": "code",
      "source": [
        "# convert categorical attributes gender\n",
        "df_data['gender'] = df_data.gender.apply(lambda x: x.replace(\"Male\",\"0\"))\n",
        "df_data['gender'] = df_data.gender.apply(lambda x: x.replace(\"Female\",\"1\"))\n",
        "df_data.gender.unique()"
      ],
      "execution_count": 26,
      "outputs": [
        {
          "output_type": "execute_result",
          "data": {
            "text/plain": [
              "array(['1', '0'], dtype=object)"
            ]
          },
          "metadata": {
            "tags": []
          },
          "execution_count": 26
        }
      ]
    },
    {
      "metadata": {
        "id": "6Y6mqqlQcbiw",
        "colab_type": "code",
        "colab": {}
      },
      "cell_type": "code",
      "source": [
        "# convert gender data fron object to number\n",
        "df_data['gender'] = df_data.gender.apply(lambda x: int(x))"
      ],
      "execution_count": 0,
      "outputs": []
    },
    {
      "metadata": {
        "id": "gT5tDOZfcfKJ",
        "colab_type": "code",
        "colab": {
          "base_uri": "https://localhost:8080/",
          "height": 35
        },
        "outputId": "205d600a-70c1-4a0a-b30b-ce82db8cbeda"
      },
      "cell_type": "code",
      "source": [
        "# convert bool attributes customer\n",
        "df_data['customer'] = df_data.customer.apply(lambda x: str(x))\n",
        "df_data['customer'] = df_data.customer.apply(lambda x: x.replace('False','0'))\n",
        "df_data['customer'] = df_data.customer.apply(lambda x: x.replace('True','1'))\n",
        "df_data.customer.unique()"
      ],
      "execution_count": 28,
      "outputs": [
        {
          "output_type": "execute_result",
          "data": {
            "text/plain": [
              "array(['0', '1'], dtype=object)"
            ]
          },
          "metadata": {
            "tags": []
          },
          "execution_count": 28
        }
      ]
    },
    {
      "metadata": {
        "id": "1Fau8KnNc3XY",
        "colab_type": "code",
        "colab": {}
      },
      "cell_type": "code",
      "source": [
        "# convert customer data fron object to number\n",
        "df_data['customer'] = df_data.customer.apply(lambda x: int(x))"
      ],
      "execution_count": 0,
      "outputs": []
    },
    {
      "metadata": {
        "id": "HxXVghDwc5rr",
        "colab_type": "code",
        "colab": {}
      },
      "cell_type": "code",
      "source": [
        "# select only numeric attributes\n",
        "numeric_features = df_data[['age','contract_length','upgraded','gender','category','score1','score2','score3','customer']]"
      ],
      "execution_count": 0,
      "outputs": []
    },
    {
      "metadata": {
        "id": "ba5S_BpXdFBP",
        "colab_type": "code",
        "colab": {
          "base_uri": "https://localhost:8080/",
          "height": 201
        },
        "outputId": "103f6ff0-bddc-4a76-fa28-61f0089acd15"
      },
      "cell_type": "code",
      "source": [
        "# attribute correlation\n",
        "corr = numeric_features.corr()\n",
        "print (corr['customer'].sort_values(ascending=False))"
      ],
      "execution_count": 36,
      "outputs": [
        {
          "output_type": "stream",
          "text": [
            "customer           1.000000\n",
            "upgraded           0.266606\n",
            "age                0.126768\n",
            "score2             0.057003\n",
            "category           0.012293\n",
            "gender             0.007692\n",
            "score3            -0.019022\n",
            "contract_length   -0.088066\n",
            "score1            -0.104302\n",
            "Name: customer, dtype: float64\n"
          ],
          "name": "stdout"
        }
      ]
    },
    {
      "metadata": {
        "id": "74N50G-od7Up",
        "colab_type": "text"
      },
      "cell_type": "markdown",
      "source": [
        "Since age, category and gender show high correlation scores, I will be taking them into account for clustering. \n"
      ]
    },
    {
      "metadata": {
        "id": "iWKqhPwgfcXc",
        "colab_type": "code",
        "colab": {}
      },
      "cell_type": "code",
      "source": [
        "\n",
        "\n",
        "# create the train dataset of customers\n",
        "df_customers = df_data[df_data['customer']==1]\n",
        "\n",
        "df_non_customers = df_data[df_data['customer']==0]"
      ],
      "execution_count": 0,
      "outputs": []
    },
    {
      "metadata": {
        "id": "DlayQxQ7hASA",
        "colab_type": "code",
        "colab": {}
      },
      "cell_type": "code",
      "source": [
        "df_non_customers = df_non_customers.drop(['ID'],axis=1)\n",
        "df_customers = df_customers.drop(['ID'],axis=1)"
      ],
      "execution_count": 0,
      "outputs": []
    },
    {
      "metadata": {
        "id": "0HCuXmFufxM7",
        "colab_type": "code",
        "colab": {}
      },
      "cell_type": "code",
      "source": [
        "import numpy as np\n",
        "## Convert dataframe into list and then into a numpy array\n",
        "train = df_customers.values.tolist() \n",
        "train = np.array(train)"
      ],
      "execution_count": 0,
      "outputs": []
    },
    {
      "metadata": {
        "id": "Tqu2W368gOjb",
        "colab_type": "code",
        "colab": {}
      },
      "cell_type": "code",
      "source": [
        "## Convert dataframe into list and then into a numpy array\n",
        "test = df_non_customers.values.tolist() \n",
        "test = np.array(test)"
      ],
      "execution_count": 0,
      "outputs": []
    },
    {
      "metadata": {
        "id": "rzYF_FuogSIK",
        "colab_type": "code",
        "colab": {}
      },
      "cell_type": "code",
      "source": [
        "from sklearn.cluster import KMeans\n",
        "%matplotlib inline\n",
        "import seaborn as sns\n",
        "sns.set();\n",
        "\n",
        "\n"
      ],
      "execution_count": 0,
      "outputs": []
    },
    {
      "metadata": {
        "id": "L_BBQXltmoyM",
        "colab_type": "code",
        "colab": {}
      },
      "cell_type": "code",
      "source": [
        "## Convert dataframe into list and then into a numpy array\n",
        "train = df_data[['score1','gender']].values.tolist()\n",
        "train = np.array(train)"
      ],
      "execution_count": 0,
      "outputs": []
    },
    {
      "metadata": {
        "id": "y7EQK-SQkMXU",
        "colab_type": "code",
        "colab": {}
      },
      "cell_type": "code",
      "source": [
        "test = df_data[['score1','gender']].values.tolist() \n",
        "test = np.array(test)"
      ],
      "execution_count": 0,
      "outputs": []
    },
    {
      "metadata": {
        "id": "gKghk86OiVqj",
        "colab_type": "code",
        "colab": {}
      },
      "cell_type": "code",
      "source": [
        "\n",
        "kmeans = KMeans(n_clusters = 3, init = 'k-means++', random_state = 42)\n",
        "kmeans.fit(train)\n",
        "pred = kmeans.predict(test)"
      ],
      "execution_count": 0,
      "outputs": []
    },
    {
      "metadata": {
        "id": "qMwfjXSchNlo",
        "colab_type": "code",
        "colab": {
          "base_uri": "https://localhost:8080/",
          "height": 362
        },
        "outputId": "79201895-802a-4527-fe25-a09f6309233f"
      },
      "cell_type": "code",
      "source": [
        "import matplotlib.pyplot as plt\n",
        "# Visualising the clusters\n",
        "plt.scatter(test[pred == 0, 0], test[pred == 0, 1], s = 100, c = 'red', label = 'Cluster 1')\n",
        "plt.scatter(test[pred == 1, 0], test[pred == 1, 1], s = 100, c = 'blue', label = 'Cluster 2')\n",
        "plt.scatter(test[pred == 2, 0], test[pred == 2, 1], s = 100, c = 'green', label = 'Cluster 3')\n",
        "\n",
        "plt.scatter(kmeans.cluster_centers_[:, 0], kmeans.cluster_centers_[:, 1], s = 300, c = 'yellow', label = 'Centroids')\n",
        "plt.title('Clusters of customers')\n",
        "\n",
        "plt.legend()\n",
        "plt.show()"
      ],
      "execution_count": 91,
      "outputs": [
        {
          "output_type": "display_data",
          "data": {
            "image/png": "[encoded data removed]",
            "text/plain": [
              "<Figure size 576x396 with 1 Axes>"
            ]
          },
          "metadata": {
            "tags": []
          }
        }
      ]
    },
    {
      "metadata": {
        "id": "KaKecfxBm8Qj",
        "colab_type": "code",
        "colab": {}
      },
      "cell_type": "code",
      "source": [
        "## Convert dataframe into list and then into a numpy array\n",
        "train = df_data[['score1','category']].values.tolist()\n",
        "train = np.array(train)"
      ],
      "execution_count": 0,
      "outputs": []
    },
    {
      "metadata": {
        "id": "Dw880pDkm_zY",
        "colab_type": "code",
        "colab": {}
      },
      "cell_type": "code",
      "source": [
        "test = df_data[['score1','category']].values.tolist() \n",
        "test = np.array(test)"
      ],
      "execution_count": 0,
      "outputs": []
    },
    {
      "metadata": {
        "id": "54PBRPy6nEVx",
        "colab_type": "code",
        "colab": {}
      },
      "cell_type": "code",
      "source": [
        "\n",
        "kmeans = KMeans(n_clusters = 3, init = 'k-means++', random_state = 42)\n",
        "kmeans.fit(train)\n",
        "pred = kmeans.predict(test)"
      ],
      "execution_count": 0,
      "outputs": []
    },
    {
      "metadata": {
        "id": "DyNCWBjwnMYx",
        "colab_type": "code",
        "colab": {
          "base_uri": "https://localhost:8080/",
          "height": 362
        },
        "outputId": "554dc426-afda-4f3e-dc5a-bc478d6afae6"
      },
      "cell_type": "code",
      "source": [
        "import matplotlib.pyplot as plt\n",
        "# Visualising the clusters\n",
        "plt.scatter(test[pred == 0, 0], test[pred == 0, 1], s = 100, c = 'red', label = 'Cluster 1')\n",
        "plt.scatter(test[pred == 1, 0], test[pred == 1, 1], s = 100, c = 'blue', label = 'Cluster 2')\n",
        "plt.scatter(test[pred == 2, 0], test[pred == 2, 1], s = 100, c = 'green', label = 'Cluster 3')\n",
        "\n",
        "plt.scatter(kmeans.cluster_centers_[:, 0], kmeans.cluster_centers_[:, 1], s = 300, c = 'yellow', label = 'Centroids')\n",
        "plt.title('Clusters of customers')\n",
        "\n",
        "plt.legend()\n",
        "plt.show()"
      ],
      "execution_count": 96,
      "outputs": [
        {
          "output_type": "display_data",
          "data": {
            "image/png": "[encoded data removed]",
            "text/plain": [
              "<Figure size 576x396 with 1 Axes>"
            ]
          },
          "metadata": {
            "tags": []
          }
        }
      ]
    },
    {
      "metadata": {
        "id": "KJ2AD9CMnbwp",
        "colab_type": "code",
        "colab": {}
      },
      "cell_type": "code",
      "source": [
        "## Convert dataframe into list and then into a numpy array\n",
        "train = df_data[['score1','gender']].values.tolist()\n",
        "train = np.array(train)"
      ],
      "execution_count": 0,
      "outputs": []
    },
    {
      "metadata": {
        "id": "SUUB5Ljgno6s",
        "colab_type": "code",
        "colab": {}
      },
      "cell_type": "code",
      "source": [
        "test = df_data[['score1','gender']].values.tolist() \n",
        "test = np.array(test)"
      ],
      "execution_count": 0,
      "outputs": []
    },
    {
      "metadata": {
        "id": "00HwH0nQnx7H",
        "colab_type": "code",
        "colab": {}
      },
      "cell_type": "code",
      "source": [
        "\n",
        "kmeans = KMeans(n_clusters = 3, init = 'k-means++', random_state = 42)\n",
        "kmeans.fit(train)\n",
        "pred = kmeans.predict(test)"
      ],
      "execution_count": 0,
      "outputs": []
    },
    {
      "metadata": {
        "id": "cHHGi0xgnzQn",
        "colab_type": "code",
        "colab": {
          "base_uri": "https://localhost:8080/",
          "height": 362
        },
        "outputId": "f4f4a50a-828d-4d43-bbf6-5bafe4b77919"
      },
      "cell_type": "code",
      "source": [
        "import matplotlib.pyplot as plt\n",
        "# Visualising the clusters\n",
        "plt.scatter(test[pred == 0, 0], test[pred == 0, 1], s = 100, c = 'red', label = 'Cluster 1')\n",
        "plt.scatter(test[pred == 1, 0], test[pred == 1, 1], s = 100, c = 'blue', label = 'Cluster 2')\n",
        "plt.scatter(test[pred == 2, 0], test[pred == 2, 1], s = 100, c = 'green', label = 'Cluster 3')\n",
        "\n",
        "plt.scatter(kmeans.cluster_centers_[:, 0], kmeans.cluster_centers_[:, 1], s = 300, c = 'yellow', label = 'Centroids')\n",
        "plt.title('Clusters of customers')\n",
        "\n",
        "plt.legend()\n",
        "plt.show()"
      ],
      "execution_count": 116,
      "outputs": [
        {
          "output_type": "display_data",
          "data": {
            "image/png": "[encoded data removed]",
            "text/plain": [
              "<Figure size 576x396 with 1 Axes>"
            ]
          },
          "metadata": {
            "tags": []
          }
        }
      ]
    }
  ]
}