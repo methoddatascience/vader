{
 "cells": [
  {
   "cell_type": "markdown",
   "metadata": {},
   "source": [
    "### Problem definition:\n",
    "\n",
    "Discover look alike customers"
   ]
  },
  {
   "cell_type": "code",
   "execution_count": 61,
   "metadata": {
    "collapsed": true
   },
   "outputs": [],
   "source": [
    "# Load Packages and Data\n",
    "# Exploratory Data Analysis (EDA)\n",
    "    #-Descriptive Statistics\n",
    "    #-Univariate Analysis\n",
    "    #-Bivariate Analysis\n",
    "    # Missing Value Treatment\n",
    "# Kmeans Application\n",
    "# Evaluate Algorithms: Baseline\n",
    "# Evaluate Algorithms: Standardize data\n",
    "# "
   ]
  },
  {
   "cell_type": "markdown",
   "metadata": {},
   "source": [
    "### Load Packages and Data"
   ]
  },
  {
   "cell_type": "code",
   "execution_count": 62,
   "metadata": {
    "collapsed": true
   },
   "outputs": [],
   "source": [
    "import pandas as pd\n",
    "import numpy as np\n",
    "import matplotlib.pyplot as plt\n",
    "import numpy as np\n",
    "import pandas as pd\n",
    "from sklearn.cluster import KMeans\n",
    "%matplotlib inline\n",
    "import seaborn as sns\n",
    "sns.set();"
   ]
  },
  {
   "cell_type": "code",
   "execution_count": 63,
   "metadata": {
    "collapsed": true
   },
   "outputs": [],
   "source": [
    "from sklearn.model_selection import train_test_split\n",
    "from sklearn.model_selection import KFold\n",
    "from sklearn.model_selection import cross_val_score\n",
    "from sklearn.metrics import classification_report\n",
    "from sklearn.metrics import confusion_matrix\n",
    "from sklearn.metrics import accuracy_score\n",
    "from sklearn.linear_model import LogisticRegression\n",
    "from sklearn.tree import DecisionTreeClassifier\n",
    "from sklearn.neighbors import KNeighborsClassifier\n",
    "from sklearn.discriminant_analysis import LinearDiscriminantAnalysis\n",
    "from sklearn.naive_bayes import GaussianNB\n",
    "from sklearn.svm import SVC\n",
    "from sklearn.ensemble import RandomForestClassifier"
   ]
  },
  {
   "cell_type": "code",
   "execution_count": 64,
   "metadata": {
    "collapsed": true
   },
   "outputs": [],
   "source": [
    "import warnings\n",
    "warnings.filterwarnings('ignore')"
   ]
  },
  {
   "cell_type": "code",
   "execution_count": 65,
   "metadata": {
    "collapsed": true
   },
   "outputs": [],
   "source": [
    "# Load dataset\n",
    "df_data = pd.read_csv('data/red_crown_sample_data1.csv',index_col=False)"
   ]
  },
  {
   "cell_type": "code",
   "execution_count": 66,
   "metadata": {},
   "outputs": [
    {
     "data": {
      "text/plain": [
       "(239788, 13)"
      ]
     },
     "execution_count": 66,
     "metadata": {},
     "output_type": "execute_result"
    }
   ],
   "source": [
    "# shape\n",
    "df_data.shape"
   ]
  },
  {
   "cell_type": "markdown",
   "metadata": {},
   "source": [
    "There are 23,9788 instances to work with and the data has 13 attributes."
   ]
  },
  {
   "cell_type": "code",
   "execution_count": 67,
   "metadata": {},
   "outputs": [
    {
     "data": {
      "text/html": [
       "<div>\n",
       "<style scoped>\n",
       "    .dataframe tbody tr th:only-of-type {\n",
       "        vertical-align: middle;\n",
       "    }\n",
       "\n",
       "    .dataframe tbody tr th {\n",
       "        vertical-align: top;\n",
       "    }\n",
       "\n",
       "    .dataframe thead th {\n",
       "        text-align: right;\n",
       "    }\n",
       "</style>\n",
       "<table border=\"1\" class=\"dataframe\">\n",
       "  <thead>\n",
       "    <tr style=\"text-align: right;\">\n",
       "      <th></th>\n",
       "      <th>Unnamed: 0</th>\n",
       "      <th>ID</th>\n",
       "      <th>age</th>\n",
       "      <th>submission_date</th>\n",
       "      <th>contract_length</th>\n",
       "      <th>upgraded</th>\n",
       "      <th>gender</th>\n",
       "      <th>category</th>\n",
       "      <th>score1</th>\n",
       "      <th>score2</th>\n",
       "      <th>score3</th>\n",
       "      <th>first_contact</th>\n",
       "      <th>customer</th>\n",
       "    </tr>\n",
       "  </thead>\n",
       "  <tbody>\n",
       "    <tr>\n",
       "      <th>0</th>\n",
       "      <td>1</td>\n",
       "      <td>qzx1</td>\n",
       "      <td>41</td>\n",
       "      <td>2013-03-30</td>\n",
       "      <td>2027.0</td>\n",
       "      <td>False</td>\n",
       "      <td>Female</td>\n",
       "      <td>1</td>\n",
       "      <td>4.155778</td>\n",
       "      <td>1.303375</td>\n",
       "      <td>-0.003228</td>\n",
       "      <td>NaN</td>\n",
       "      <td>False</td>\n",
       "    </tr>\n",
       "    <tr>\n",
       "      <th>1</th>\n",
       "      <td>2</td>\n",
       "      <td>qzx1</td>\n",
       "      <td>42</td>\n",
       "      <td>2016-06-30</td>\n",
       "      <td>162.0</td>\n",
       "      <td>False</td>\n",
       "      <td>Female</td>\n",
       "      <td>2</td>\n",
       "      <td>3.552356</td>\n",
       "      <td>1.719870</td>\n",
       "      <td>-0.000300</td>\n",
       "      <td>NaN</td>\n",
       "      <td>False</td>\n",
       "    </tr>\n",
       "    <tr>\n",
       "      <th>2</th>\n",
       "      <td>3</td>\n",
       "      <td>qzx1</td>\n",
       "      <td>40</td>\n",
       "      <td>2012-04-20</td>\n",
       "      <td>381.0</td>\n",
       "      <td>False</td>\n",
       "      <td>Female</td>\n",
       "      <td>2</td>\n",
       "      <td>3.551545</td>\n",
       "      <td>2.055290</td>\n",
       "      <td>-0.000003</td>\n",
       "      <td>NaN</td>\n",
       "      <td>False</td>\n",
       "    </tr>\n",
       "    <tr>\n",
       "      <th>3</th>\n",
       "      <td>4</td>\n",
       "      <td>qzx1</td>\n",
       "      <td>40</td>\n",
       "      <td>2013-11-02</td>\n",
       "      <td>351.0</td>\n",
       "      <td>False</td>\n",
       "      <td>Female</td>\n",
       "      <td>2</td>\n",
       "      <td>4.202698</td>\n",
       "      <td>1.151331</td>\n",
       "      <td>-0.010516</td>\n",
       "      <td>NaN</td>\n",
       "      <td>False</td>\n",
       "    </tr>\n",
       "    <tr>\n",
       "      <th>4</th>\n",
       "      <td>5</td>\n",
       "      <td>qzx1</td>\n",
       "      <td>44</td>\n",
       "      <td>2010-01-20</td>\n",
       "      <td>120.0</td>\n",
       "      <td>False</td>\n",
       "      <td>Female</td>\n",
       "      <td>2</td>\n",
       "      <td>2.818966</td>\n",
       "      <td>2.169682</td>\n",
       "      <td>-0.000348</td>\n",
       "      <td>NaN</td>\n",
       "      <td>False</td>\n",
       "    </tr>\n",
       "  </tbody>\n",
       "</table>\n",
       "</div>"
      ],
      "text/plain": [
       "   Unnamed: 0    ID  age submission_date  contract_length  upgraded  gender  \\\n",
       "0           1  qzx1   41      2013-03-30           2027.0     False  Female   \n",
       "1           2  qzx1   42      2016-06-30            162.0     False  Female   \n",
       "2           3  qzx1   40      2012-04-20            381.0     False  Female   \n",
       "3           4  qzx1   40      2013-11-02            351.0     False  Female   \n",
       "4           5  qzx1   44      2010-01-20            120.0     False  Female   \n",
       "\n",
       "   category    score1    score2    score3 first_contact  customer  \n",
       "0         1  4.155778  1.303375 -0.003228           NaN     False  \n",
       "1         2  3.552356  1.719870 -0.000300           NaN     False  \n",
       "2         2  3.551545  2.055290 -0.000003           NaN     False  \n",
       "3         2  4.202698  1.151331 -0.010516           NaN     False  \n",
       "4         2  2.818966  2.169682 -0.000348           NaN     False  "
      ]
     },
     "execution_count": 67,
     "metadata": {},
     "output_type": "execute_result"
    }
   ],
   "source": [
    "# view sample rows\n",
    "df_data.head()"
   ]
  },
  {
   "cell_type": "code",
   "execution_count": 68,
   "metadata": {},
   "outputs": [
    {
     "data": {
      "text/html": [
       "<div>\n",
       "<style scoped>\n",
       "    .dataframe tbody tr th:only-of-type {\n",
       "        vertical-align: middle;\n",
       "    }\n",
       "\n",
       "    .dataframe tbody tr th {\n",
       "        vertical-align: top;\n",
       "    }\n",
       "\n",
       "    .dataframe thead th {\n",
       "        text-align: right;\n",
       "    }\n",
       "</style>\n",
       "<table border=\"1\" class=\"dataframe\">\n",
       "  <thead>\n",
       "    <tr style=\"text-align: right;\">\n",
       "      <th></th>\n",
       "      <th>Unnamed: 0</th>\n",
       "      <th>age</th>\n",
       "      <th>contract_length</th>\n",
       "      <th>category</th>\n",
       "      <th>score1</th>\n",
       "      <th>score2</th>\n",
       "      <th>score3</th>\n",
       "    </tr>\n",
       "  </thead>\n",
       "  <tbody>\n",
       "    <tr>\n",
       "      <th>count</th>\n",
       "      <td>239788.000000</td>\n",
       "      <td>239788.000000</td>\n",
       "      <td>68263.000000</td>\n",
       "      <td>239788.000000</td>\n",
       "      <td>239788.000000</td>\n",
       "      <td>239788.000000</td>\n",
       "      <td>239788.000000</td>\n",
       "    </tr>\n",
       "    <tr>\n",
       "      <th>mean</th>\n",
       "      <td>119894.500000</td>\n",
       "      <td>34.204689</td>\n",
       "      <td>2081.781185</td>\n",
       "      <td>1.621895</td>\n",
       "      <td>4.918111</td>\n",
       "      <td>1.118694</td>\n",
       "      <td>-1.516862</td>\n",
       "    </tr>\n",
       "    <tr>\n",
       "      <th>std</th>\n",
       "      <td>69220.977512</td>\n",
       "      <td>2.984439</td>\n",
       "      <td>1225.355978</td>\n",
       "      <td>0.484915</td>\n",
       "      <td>0.517630</td>\n",
       "      <td>0.599922</td>\n",
       "      <td>1.025697</td>\n",
       "    </tr>\n",
       "    <tr>\n",
       "      <th>min</th>\n",
       "      <td>1.000000</td>\n",
       "      <td>9.000000</td>\n",
       "      <td>1.000000</td>\n",
       "      <td>1.000000</td>\n",
       "      <td>2.149353</td>\n",
       "      <td>0.361095</td>\n",
       "      <td>-10.936312</td>\n",
       "    </tr>\n",
       "    <tr>\n",
       "      <th>25%</th>\n",
       "      <td>59947.750000</td>\n",
       "      <td>32.000000</td>\n",
       "      <td>1059.000000</td>\n",
       "      <td>1.000000</td>\n",
       "      <td>4.678020</td>\n",
       "      <td>0.711478</td>\n",
       "      <td>-2.027088</td>\n",
       "    </tr>\n",
       "    <tr>\n",
       "      <th>50%</th>\n",
       "      <td>119894.500000</td>\n",
       "      <td>34.000000</td>\n",
       "      <td>2036.000000</td>\n",
       "      <td>2.000000</td>\n",
       "      <td>5.033811</td>\n",
       "      <td>0.908702</td>\n",
       "      <td>-1.397082</td>\n",
       "    </tr>\n",
       "    <tr>\n",
       "      <th>75%</th>\n",
       "      <td>179841.250000</td>\n",
       "      <td>36.000000</td>\n",
       "      <td>3010.000000</td>\n",
       "      <td>2.000000</td>\n",
       "      <td>5.285969</td>\n",
       "      <td>1.347086</td>\n",
       "      <td>-0.787911</td>\n",
       "    </tr>\n",
       "    <tr>\n",
       "      <th>max</th>\n",
       "      <td>239788.000000</td>\n",
       "      <td>45.000000</td>\n",
       "      <td>6234.000000</td>\n",
       "      <td>2.000000</td>\n",
       "      <td>6.560284</td>\n",
       "      <td>5.713280</td>\n",
       "      <td>0.000000</td>\n",
       "    </tr>\n",
       "  </tbody>\n",
       "</table>\n",
       "</div>"
      ],
      "text/plain": [
       "          Unnamed: 0            age  contract_length       category  \\\n",
       "count  239788.000000  239788.000000     68263.000000  239788.000000   \n",
       "mean   119894.500000      34.204689      2081.781185       1.621895   \n",
       "std     69220.977512       2.984439      1225.355978       0.484915   \n",
       "min         1.000000       9.000000         1.000000       1.000000   \n",
       "25%     59947.750000      32.000000      1059.000000       1.000000   \n",
       "50%    119894.500000      34.000000      2036.000000       2.000000   \n",
       "75%    179841.250000      36.000000      3010.000000       2.000000   \n",
       "max    239788.000000      45.000000      6234.000000       2.000000   \n",
       "\n",
       "              score1         score2         score3  \n",
       "count  239788.000000  239788.000000  239788.000000  \n",
       "mean        4.918111       1.118694      -1.516862  \n",
       "std         0.517630       0.599922       1.025697  \n",
       "min         2.149353       0.361095     -10.936312  \n",
       "25%         4.678020       0.711478      -2.027088  \n",
       "50%         5.033811       0.908702      -1.397082  \n",
       "75%         5.285969       1.347086      -0.787911  \n",
       "max         6.560284       5.713280       0.000000  "
      ]
     },
     "execution_count": 68,
     "metadata": {},
     "output_type": "execute_result"
    }
   ],
   "source": [
    "# dataset attribute stat\n",
    "df_data.describe()"
   ]
  },
  {
   "cell_type": "code",
   "execution_count": 69,
   "metadata": {},
   "outputs": [
    {
     "name": "stdout",
     "output_type": "stream",
     "text": [
      "<class 'pandas.core.frame.DataFrame'>\n",
      "RangeIndex: 239788 entries, 0 to 239787\n",
      "Data columns (total 13 columns):\n",
      "Unnamed: 0         239788 non-null int64\n",
      "ID                 239788 non-null object\n",
      "age                239788 non-null int64\n",
      "submission_date    239664 non-null object\n",
      "contract_length    68263 non-null float64\n",
      "upgraded           239788 non-null bool\n",
      "gender             239788 non-null object\n",
      "category           239788 non-null int64\n",
      "score1             239788 non-null float64\n",
      "score2             239788 non-null float64\n",
      "score3             239788 non-null float64\n",
      "first_contact      86501 non-null object\n",
      "customer           239788 non-null bool\n",
      "dtypes: bool(2), float64(4), int64(3), object(4)\n",
      "memory usage: 20.6+ MB\n"
     ]
    }
   ],
   "source": [
    "# data type\n",
    "df_data.info()"
   ]
  },
  {
   "cell_type": "code",
   "execution_count": 70,
   "metadata": {},
   "outputs": [
    {
     "data": {
      "text/plain": [
       "Unnamed: 0              0\n",
       "ID                      0\n",
       "age                     0\n",
       "submission_date       124\n",
       "contract_length    171525\n",
       "upgraded                0\n",
       "gender                  0\n",
       "category                0\n",
       "score1                  0\n",
       "score2                  0\n",
       "score3                  0\n",
       "first_contact      153287\n",
       "customer                0\n",
       "dtype: int64"
      ]
     },
     "execution_count": 70,
     "metadata": {},
     "output_type": "execute_result"
    }
   ],
   "source": [
    "# Check for missing values\n",
    "df_data.isnull().sum()"
   ]
  },
  {
   "cell_type": "markdown",
   "metadata": {},
   "source": [
    "There are missing values in contract_length, submission_date and first_contact "
   ]
  },
  {
   "cell_type": "code",
   "execution_count": 71,
   "metadata": {},
   "outputs": [
    {
     "name": "stdout",
     "output_type": "stream",
     "text": [
      "customer\n",
      "False    211723\n",
      "True      28065\n",
      "dtype: int64\n"
     ]
    }
   ],
   "source": [
    "# customer class distribution\n",
    "print(df_data.groupby('customer').size())"
   ]
  },
  {
   "cell_type": "markdown",
   "metadata": {
    "collapsed": true
   },
   "source": [
    "From the customer population size of 239,788 there are 28,065 customers and 211,723 customers that we want to extract lookalikes from."
   ]
  },
  {
   "cell_type": "code",
   "execution_count": 72,
   "metadata": {},
   "outputs": [
    {
     "data": {
      "text/plain": [
       "array(['qzx1', 'qzx2', 'qzx3', 'qzx4', 'qzx5', 'qzx6', 'qzx7', 'qzx8',\n",
       "       'qzx9', 'qzx10', 'qzx11', 'qzx12', 'qzx13', 'qzx14', 'qzx15',\n",
       "       'qzx16', 'qzx17', 'qzx18', 'qzx19', 'qzx20', 'qzx21', 'qzx22',\n",
       "       'qzx23', 'qzx24', 'qzx25', 'qzx26', 'qzx27', 'qzx28', 'qzx29',\n",
       "       'qzx30', 'qzx31', 'qzx32', 'qzx33', 'qzx34', 'qzx35', 'qzx36',\n",
       "       'qzx37', 'qzx38', 'qzx39', 'qzx40', 'qzx41', 'qzx42', 'qzx43',\n",
       "       'qzx44', 'qzx45', 'qzx46', 'qzx47', 'qzx48', 'qzx49', 'qzx50',\n",
       "       'qzx51', 'qzx52', 'qzx53', 'qzx54', 'qzx55', 'qzx56', 'qzx57',\n",
       "       'qzx58', 'qzx59', 'qzx60', 'qzx61', 'qzx62', 'qzx63', 'qzx64',\n",
       "       'qzx65'], dtype=object)"
      ]
     },
     "execution_count": 72,
     "metadata": {},
     "output_type": "execute_result"
    }
   ],
   "source": [
    "df_data.ID.unique()"
   ]
  },
  {
   "cell_type": "markdown",
   "metadata": {},
   "source": [
    "The values of the 'ID' column seems to look like a categorization attribute, each value as a one to many mapping to a number of records."
   ]
  },
  {
   "cell_type": "markdown",
   "metadata": {
    "collapsed": true
   },
   "source": [
    "### Exploratory Data Analysis (EDA)"
   ]
  },
  {
   "cell_type": "markdown",
   "metadata": {},
   "source": [
    "#### Univariate Analysis"
   ]
  },
  {
   "cell_type": "code",
   "execution_count": 73,
   "metadata": {},
   "outputs": [
    {
     "data": {
      "image/png": "[encoded data removed]",
      "text/plain": [
       "<matplotlib.figure.Figure at 0x12b32c978>"
      ]
     },
     "metadata": {},
     "output_type": "display_data"
    }
   ],
   "source": [
    "# The upgraded attribute\n",
    "ax = plt.subplots(figsize=(10, 4))\n",
    "sns.countplot(y='upgraded', data=df_data);"
   ]
  },
  {
   "cell_type": "code",
   "execution_count": 74,
   "metadata": {},
   "outputs": [
    {
     "data": {
      "text/plain": [
       "<matplotlib.axes._subplots.AxesSubplot at 0x12b32c630>"
      ]
     },
     "execution_count": 74,
     "metadata": {},
     "output_type": "execute_result"
    },
    {
     "data": {
      "image/png": "[encoded data removed]",
      "text/plain": [
       "<matplotlib.figure.Figure at 0x12b14ecc0>"
      ]
     },
     "metadata": {},
     "output_type": "display_data"
    }
   ],
   "source": [
    "# Check categorical attribute gender\n",
    "f, ax = plt.subplots(figsize=(10, 4))\n",
    "sns.countplot(y=\"gender\", data=df_data)"
   ]
  },
  {
   "cell_type": "code",
   "execution_count": 75,
   "metadata": {},
   "outputs": [
    {
     "data": {
      "image/png": "[encoded data removed]",
      "text/plain": [
       "<matplotlib.figure.Figure at 0x121cc83c8>"
      ]
     },
     "metadata": {},
     "output_type": "display_data"
    }
   ],
   "source": [
    "# The category attribute distribution\n",
    "ax = plt.subplots(figsize=(10, 4))\n",
    "sns.countplot(y='category', data=df_data);"
   ]
  },
  {
   "cell_type": "code",
   "execution_count": 76,
   "metadata": {},
   "outputs": [
    {
     "data": {
      "text/plain": [
       "<matplotlib.axes._subplots.AxesSubplot at 0x121cc8e48>"
      ]
     },
     "execution_count": 76,
     "metadata": {},
     "output_type": "execute_result"
    },
    {
     "data": {
      "image/png": "[encoded data removed]",
      "text/plain": [
       "<matplotlib.figure.Figure at 0x129ed6588>"
      ]
     },
     "metadata": {},
     "output_type": "display_data"
    }
   ],
   "source": [
    "# The Age attribute\n",
    "ax = plt.subplots(figsize=(15, 4))\n",
    "sns.distplot(df_data.age, kde=True)"
   ]
  },
  {
   "cell_type": "code",
   "execution_count": 77,
   "metadata": {
    "collapsed": true
   },
   "outputs": [],
   "source": [
    "# remove NaN\n",
    "df_data['contract_length'].fillna(0, inplace=True)"
   ]
  },
  {
   "cell_type": "code",
   "execution_count": 78,
   "metadata": {},
   "outputs": [
    {
     "data": {
      "text/plain": [
       "<matplotlib.axes._subplots.AxesSubplot at 0x1221434e0>"
      ]
     },
     "execution_count": 78,
     "metadata": {},
     "output_type": "execute_result"
    },
    {
     "data": {
      "image/png": "[encoded data removed]",
      "text/plain": [
       "<matplotlib.figure.Figure at 0x131961b00>"
      ]
     },
     "metadata": {},
     "output_type": "display_data"
    }
   ],
   "source": [
    "# The contract_length attribute\n",
    "ax = plt.subplots()\n",
    "sns.distplot(df_data.contract_length, kde=True)"
   ]
  },
  {
   "cell_type": "code",
   "execution_count": 79,
   "metadata": {},
   "outputs": [
    {
     "data": {
      "text/plain": [
       "<matplotlib.axes._subplots.AxesSubplot at 0x12ae8f668>"
      ]
     },
     "execution_count": 79,
     "metadata": {},
     "output_type": "execute_result"
    },
    {
     "data": {
      "image/png": "[encoded data removed]",
      "text/plain": [
       "<matplotlib.figure.Figure at 0x1260a5710>"
      ]
     },
     "metadata": {},
     "output_type": "display_data"
    }
   ],
   "source": [
    "# The contract_length attribute: take out 0 to get a better view\n",
    "ax = plt.subplots()\n",
    "sns.distplot(df_data[df_data['contract_length']>0].contract_length, kde=True)"
   ]
  },
  {
   "cell_type": "markdown",
   "metadata": {},
   "source": [
    "what is best approach to handle the NaN/0 value of contract_length?\n",
    "is setting 0 ok?\n",
    "will it be safe to use the strategy involving replacing NaN with the mode of the attribute?\n",
    "It will be good to get details about the attribute from the buisness"
   ]
  },
  {
   "cell_type": "code",
   "execution_count": 80,
   "metadata": {},
   "outputs": [
    {
     "data": {
      "text/plain": [
       "<matplotlib.axes._subplots.AxesSubplot at 0x12b2dd940>"
      ]
     },
     "execution_count": 80,
     "metadata": {},
     "output_type": "execute_result"
    },
    {
     "data": {
      "image/png": "[encoded data removed]",
      "text/plain": [
       "<matplotlib.figure.Figure at 0x12b288978>"
      ]
     },
     "metadata": {},
     "output_type": "display_data"
    }
   ],
   "source": [
    "# The score1 attribute\n",
    "ax = plt.subplots()\n",
    "sns.distplot(df_data.score1, kde=True)"
   ]
  },
  {
   "cell_type": "code",
   "execution_count": 81,
   "metadata": {},
   "outputs": [
    {
     "data": {
      "text/plain": [
       "<matplotlib.axes._subplots.AxesSubplot at 0x129c4be10>"
      ]
     },
     "execution_count": 81,
     "metadata": {},
     "output_type": "execute_result"
    },
    {
     "data": {
      "image/png": "[encoded data removed]",
      "text/plain": [
       "<matplotlib.figure.Figure at 0x12c2fac50>"
      ]
     },
     "metadata": {},
     "output_type": "display_data"
    }
   ],
   "source": [
    "# The score2 attribute\n",
    "ax = plt.subplots()\n",
    "sns.distplot(df_data.score2, kde=True)"
   ]
  },
  {
   "cell_type": "code",
   "execution_count": 82,
   "metadata": {},
   "outputs": [
    {
     "data": {
      "text/plain": [
       "<matplotlib.axes._subplots.AxesSubplot at 0x129ce39e8>"
      ]
     },
     "execution_count": 82,
     "metadata": {},
     "output_type": "execute_result"
    },
    {
     "data": {
      "image/png": "[encoded data removed]",
      "text/plain": [
       "<matplotlib.figure.Figure at 0x12b243278>"
      ]
     },
     "metadata": {},
     "output_type": "display_data"
    }
   ],
   "source": [
    "# The score3 attribute\n",
    "ax = plt.subplots()\n",
    "sns.distplot(df_data.score3, kde=True)"
   ]
  },
  {
   "cell_type": "code",
   "execution_count": 83,
   "metadata": {},
   "outputs": [
    {
     "data": {
      "text/plain": [
       "<matplotlib.axes._subplots.AxesSubplot at 0x129e00160>"
      ]
     },
     "execution_count": 83,
     "metadata": {},
     "output_type": "execute_result"
    },
    {
     "data": {
      "image/png": "[encoded data removed]",
      "text/plain": [
       "<matplotlib.figure.Figure at 0x129d90588>"
      ]
     },
     "metadata": {},
     "output_type": "display_data"
    }
   ],
   "source": [
    "# The score1,score2,score3 attributes\n",
    "ax = plt.subplots(figsize=(16, 5))\n",
    "sns.distplot(df_data.score1, kde=True)\n",
    "sns.distplot(df_data.score2, kde=True)\n",
    "sns.distplot(df_data.score3, kde=True)"
   ]
  },
  {
   "cell_type": "code",
   "execution_count": 84,
   "metadata": {},
   "outputs": [
    {
     "data": {
      "text/plain": [
       "Unnamed: 0              0\n",
       "ID                      0\n",
       "age                     0\n",
       "submission_date       124\n",
       "contract_length         0\n",
       "upgraded                0\n",
       "gender                  0\n",
       "category                0\n",
       "score1                  0\n",
       "score2                  0\n",
       "score3                  0\n",
       "first_contact      153287\n",
       "customer                0\n",
       "dtype: int64"
      ]
     },
     "execution_count": 84,
     "metadata": {},
     "output_type": "execute_result"
    }
   ],
   "source": [
    "df_data.isna().sum()"
   ]
  },
  {
   "cell_type": "code",
   "execution_count": 85,
   "metadata": {},
   "outputs": [
    {
     "data": {
      "text/html": [
       "<div>\n",
       "<style scoped>\n",
       "    .dataframe tbody tr th:only-of-type {\n",
       "        vertical-align: middle;\n",
       "    }\n",
       "\n",
       "    .dataframe tbody tr th {\n",
       "        vertical-align: top;\n",
       "    }\n",
       "\n",
       "    .dataframe thead th {\n",
       "        text-align: right;\n",
       "    }\n",
       "</style>\n",
       "<table border=\"1\" class=\"dataframe\">\n",
       "  <thead>\n",
       "    <tr style=\"text-align: right;\">\n",
       "      <th></th>\n",
       "      <th>Unnamed: 0</th>\n",
       "      <th>ID</th>\n",
       "      <th>age</th>\n",
       "      <th>submission_date</th>\n",
       "      <th>contract_length</th>\n",
       "      <th>upgraded</th>\n",
       "      <th>gender</th>\n",
       "      <th>category</th>\n",
       "      <th>score1</th>\n",
       "      <th>score2</th>\n",
       "      <th>score3</th>\n",
       "      <th>first_contact</th>\n",
       "      <th>customer</th>\n",
       "    </tr>\n",
       "  </thead>\n",
       "  <tbody>\n",
       "    <tr>\n",
       "      <th>0</th>\n",
       "      <td>1</td>\n",
       "      <td>qzx1</td>\n",
       "      <td>41</td>\n",
       "      <td>2013-03-30</td>\n",
       "      <td>2027.0</td>\n",
       "      <td>False</td>\n",
       "      <td>Female</td>\n",
       "      <td>1</td>\n",
       "      <td>4.155778</td>\n",
       "      <td>1.303375</td>\n",
       "      <td>-0.003228</td>\n",
       "      <td>NaN</td>\n",
       "      <td>False</td>\n",
       "    </tr>\n",
       "    <tr>\n",
       "      <th>1</th>\n",
       "      <td>2</td>\n",
       "      <td>qzx1</td>\n",
       "      <td>42</td>\n",
       "      <td>2016-06-30</td>\n",
       "      <td>162.0</td>\n",
       "      <td>False</td>\n",
       "      <td>Female</td>\n",
       "      <td>2</td>\n",
       "      <td>3.552356</td>\n",
       "      <td>1.719870</td>\n",
       "      <td>-0.000300</td>\n",
       "      <td>NaN</td>\n",
       "      <td>False</td>\n",
       "    </tr>\n",
       "    <tr>\n",
       "      <th>2</th>\n",
       "      <td>3</td>\n",
       "      <td>qzx1</td>\n",
       "      <td>40</td>\n",
       "      <td>2012-04-20</td>\n",
       "      <td>381.0</td>\n",
       "      <td>False</td>\n",
       "      <td>Female</td>\n",
       "      <td>2</td>\n",
       "      <td>3.551545</td>\n",
       "      <td>2.055290</td>\n",
       "      <td>-0.000003</td>\n",
       "      <td>NaN</td>\n",
       "      <td>False</td>\n",
       "    </tr>\n",
       "    <tr>\n",
       "      <th>3</th>\n",
       "      <td>4</td>\n",
       "      <td>qzx1</td>\n",
       "      <td>40</td>\n",
       "      <td>2013-11-02</td>\n",
       "      <td>351.0</td>\n",
       "      <td>False</td>\n",
       "      <td>Female</td>\n",
       "      <td>2</td>\n",
       "      <td>4.202698</td>\n",
       "      <td>1.151331</td>\n",
       "      <td>-0.010516</td>\n",
       "      <td>NaN</td>\n",
       "      <td>False</td>\n",
       "    </tr>\n",
       "    <tr>\n",
       "      <th>4</th>\n",
       "      <td>5</td>\n",
       "      <td>qzx1</td>\n",
       "      <td>44</td>\n",
       "      <td>2010-01-20</td>\n",
       "      <td>120.0</td>\n",
       "      <td>False</td>\n",
       "      <td>Female</td>\n",
       "      <td>2</td>\n",
       "      <td>2.818966</td>\n",
       "      <td>2.169682</td>\n",
       "      <td>-0.000348</td>\n",
       "      <td>NaN</td>\n",
       "      <td>False</td>\n",
       "    </tr>\n",
       "  </tbody>\n",
       "</table>\n",
       "</div>"
      ],
      "text/plain": [
       "   Unnamed: 0    ID  age submission_date  contract_length  upgraded  gender  \\\n",
       "0           1  qzx1   41      2013-03-30           2027.0     False  Female   \n",
       "1           2  qzx1   42      2016-06-30            162.0     False  Female   \n",
       "2           3  qzx1   40      2012-04-20            381.0     False  Female   \n",
       "3           4  qzx1   40      2013-11-02            351.0     False  Female   \n",
       "4           5  qzx1   44      2010-01-20            120.0     False  Female   \n",
       "\n",
       "   category    score1    score2    score3 first_contact  customer  \n",
       "0         1  4.155778  1.303375 -0.003228           NaN     False  \n",
       "1         2  3.552356  1.719870 -0.000300           NaN     False  \n",
       "2         2  3.551545  2.055290 -0.000003           NaN     False  \n",
       "3         2  4.202698  1.151331 -0.010516           NaN     False  \n",
       "4         2  2.818966  2.169682 -0.000348           NaN     False  "
      ]
     },
     "execution_count": 85,
     "metadata": {},
     "output_type": "execute_result"
    }
   ],
   "source": [
    "df_data.head()"
   ]
  },
  {
   "cell_type": "markdown",
   "metadata": {},
   "source": [
    "Not sure what to do with the submission_date yet, there are no missing submission_date values in customer records and we \n",
    "only have them in non-customer records, the count of missing submission_date values is abt 124, this will be removed \n",
    "and be revisited subsequently. Same goes for first_contact date attribute to some extent. I dont want to throw away the rows of data involved."
   ]
  },
  {
   "cell_type": "code",
   "execution_count": 86,
   "metadata": {},
   "outputs": [
    {
     "data": {
      "text/html": [
       "<div>\n",
       "<style scoped>\n",
       "    .dataframe tbody tr th:only-of-type {\n",
       "        vertical-align: middle;\n",
       "    }\n",
       "\n",
       "    .dataframe tbody tr th {\n",
       "        vertical-align: top;\n",
       "    }\n",
       "\n",
       "    .dataframe thead th {\n",
       "        text-align: right;\n",
       "    }\n",
       "</style>\n",
       "<table border=\"1\" class=\"dataframe\">\n",
       "  <thead>\n",
       "    <tr style=\"text-align: right;\">\n",
       "      <th></th>\n",
       "      <th>Unnamed: 0</th>\n",
       "      <th>ID</th>\n",
       "      <th>age</th>\n",
       "      <th>contract_length</th>\n",
       "      <th>upgraded</th>\n",
       "      <th>gender</th>\n",
       "      <th>category</th>\n",
       "      <th>score1</th>\n",
       "      <th>score2</th>\n",
       "      <th>score3</th>\n",
       "      <th>customer</th>\n",
       "    </tr>\n",
       "  </thead>\n",
       "  <tbody>\n",
       "    <tr>\n",
       "      <th>0</th>\n",
       "      <td>1</td>\n",
       "      <td>qzx1</td>\n",
       "      <td>41</td>\n",
       "      <td>2027.0</td>\n",
       "      <td>False</td>\n",
       "      <td>Female</td>\n",
       "      <td>1</td>\n",
       "      <td>4.155778</td>\n",
       "      <td>1.303375</td>\n",
       "      <td>-0.003228</td>\n",
       "      <td>False</td>\n",
       "    </tr>\n",
       "    <tr>\n",
       "      <th>1</th>\n",
       "      <td>2</td>\n",
       "      <td>qzx1</td>\n",
       "      <td>42</td>\n",
       "      <td>162.0</td>\n",
       "      <td>False</td>\n",
       "      <td>Female</td>\n",
       "      <td>2</td>\n",
       "      <td>3.552356</td>\n",
       "      <td>1.719870</td>\n",
       "      <td>-0.000300</td>\n",
       "      <td>False</td>\n",
       "    </tr>\n",
       "    <tr>\n",
       "      <th>2</th>\n",
       "      <td>3</td>\n",
       "      <td>qzx1</td>\n",
       "      <td>40</td>\n",
       "      <td>381.0</td>\n",
       "      <td>False</td>\n",
       "      <td>Female</td>\n",
       "      <td>2</td>\n",
       "      <td>3.551545</td>\n",
       "      <td>2.055290</td>\n",
       "      <td>-0.000003</td>\n",
       "      <td>False</td>\n",
       "    </tr>\n",
       "    <tr>\n",
       "      <th>3</th>\n",
       "      <td>4</td>\n",
       "      <td>qzx1</td>\n",
       "      <td>40</td>\n",
       "      <td>351.0</td>\n",
       "      <td>False</td>\n",
       "      <td>Female</td>\n",
       "      <td>2</td>\n",
       "      <td>4.202698</td>\n",
       "      <td>1.151331</td>\n",
       "      <td>-0.010516</td>\n",
       "      <td>False</td>\n",
       "    </tr>\n",
       "    <tr>\n",
       "      <th>4</th>\n",
       "      <td>5</td>\n",
       "      <td>qzx1</td>\n",
       "      <td>44</td>\n",
       "      <td>120.0</td>\n",
       "      <td>False</td>\n",
       "      <td>Female</td>\n",
       "      <td>2</td>\n",
       "      <td>2.818966</td>\n",
       "      <td>2.169682</td>\n",
       "      <td>-0.000348</td>\n",
       "      <td>False</td>\n",
       "    </tr>\n",
       "  </tbody>\n",
       "</table>\n",
       "</div>"
      ],
      "text/plain": [
       "   Unnamed: 0    ID  age  contract_length  upgraded  gender  category  \\\n",
       "0           1  qzx1   41           2027.0     False  Female         1   \n",
       "1           2  qzx1   42            162.0     False  Female         2   \n",
       "2           3  qzx1   40            381.0     False  Female         2   \n",
       "3           4  qzx1   40            351.0     False  Female         2   \n",
       "4           5  qzx1   44            120.0     False  Female         2   \n",
       "\n",
       "     score1    score2    score3  customer  \n",
       "0  4.155778  1.303375 -0.003228     False  \n",
       "1  3.552356  1.719870 -0.000300     False  \n",
       "2  3.551545  2.055290 -0.000003     False  \n",
       "3  4.202698  1.151331 -0.010516     False  \n",
       "4  2.818966  2.169682 -0.000348     False  "
      ]
     },
     "execution_count": 86,
     "metadata": {},
     "output_type": "execute_result"
    }
   ],
   "source": [
    "df_data = df_data.drop(columns=['submission_date','first_contact'])\n",
    "df_data.head()"
   ]
  },
  {
   "cell_type": "code",
   "execution_count": 87,
   "metadata": {},
   "outputs": [
    {
     "data": {
      "text/plain": [
       "0"
      ]
     },
     "execution_count": 87,
     "metadata": {},
     "output_type": "execute_result"
    }
   ],
   "source": [
    "# fix missing values of contract_length\n",
    "# replace missing values with the average contract_length:\n",
    "df_data['contract_length'].fillna(df_data['contract_length'].mean(), inplace=True)\n",
    "df_data.contract_length.isna().sum()"
   ]
  },
  {
   "cell_type": "code",
   "execution_count": 88,
   "metadata": {},
   "outputs": [
    {
     "data": {
      "text/plain": [
       "array(['0', '1'], dtype=object)"
      ]
     },
     "execution_count": 88,
     "metadata": {},
     "output_type": "execute_result"
    }
   ],
   "source": [
    "# convert bool attributes upgraded\n",
    "df_data['upgraded'] = df_data.upgraded.apply(lambda x: str(x))\n",
    "df_data['upgraded'] = df_data.upgraded.apply(lambda x: x.replace('False','0'))\n",
    "df_data['upgraded'] = df_data.upgraded.apply(lambda x: x.replace('True','1'))\n",
    "df_data.upgraded.unique()"
   ]
  },
  {
   "cell_type": "code",
   "execution_count": 89,
   "metadata": {
    "collapsed": true
   },
   "outputs": [],
   "source": [
    "# convert upgraded data fron object to number\n",
    "df_data['upgraded'] = df_data.upgraded.apply(lambda x: int(x))"
   ]
  },
  {
   "cell_type": "code",
   "execution_count": 90,
   "metadata": {},
   "outputs": [
    {
     "data": {
      "text/plain": [
       "array(['1', '0'], dtype=object)"
      ]
     },
     "execution_count": 90,
     "metadata": {},
     "output_type": "execute_result"
    }
   ],
   "source": [
    "# convert categorical attributes gender\n",
    "df_data['gender'] = df_data.gender.apply(lambda x: x.replace(\"Male\",\"0\"))\n",
    "df_data['gender'] = df_data.gender.apply(lambda x: x.replace(\"Female\",\"1\"))\n",
    "df_data.gender.unique()"
   ]
  },
  {
   "cell_type": "code",
   "execution_count": 91,
   "metadata": {
    "collapsed": true
   },
   "outputs": [],
   "source": [
    "# convert gender data fron object to number\n",
    "df_data['gender'] = df_data.gender.apply(lambda x: int(x))"
   ]
  },
  {
   "cell_type": "code",
   "execution_count": 92,
   "metadata": {},
   "outputs": [
    {
     "data": {
      "text/html": [
       "<div>\n",
       "<style scoped>\n",
       "    .dataframe tbody tr th:only-of-type {\n",
       "        vertical-align: middle;\n",
       "    }\n",
       "\n",
       "    .dataframe tbody tr th {\n",
       "        vertical-align: top;\n",
       "    }\n",
       "\n",
       "    .dataframe thead th {\n",
       "        text-align: right;\n",
       "    }\n",
       "</style>\n",
       "<table border=\"1\" class=\"dataframe\">\n",
       "  <thead>\n",
       "    <tr style=\"text-align: right;\">\n",
       "      <th></th>\n",
       "      <th>Unnamed: 0</th>\n",
       "      <th>ID</th>\n",
       "      <th>age</th>\n",
       "      <th>contract_length</th>\n",
       "      <th>upgraded</th>\n",
       "      <th>gender</th>\n",
       "      <th>category</th>\n",
       "      <th>score1</th>\n",
       "      <th>score2</th>\n",
       "      <th>score3</th>\n",
       "      <th>customer</th>\n",
       "    </tr>\n",
       "  </thead>\n",
       "  <tbody>\n",
       "    <tr>\n",
       "      <th>0</th>\n",
       "      <td>1</td>\n",
       "      <td>qzx1</td>\n",
       "      <td>41</td>\n",
       "      <td>2027.0</td>\n",
       "      <td>0</td>\n",
       "      <td>1</td>\n",
       "      <td>1</td>\n",
       "      <td>4.155778</td>\n",
       "      <td>1.303375</td>\n",
       "      <td>-0.003228</td>\n",
       "      <td>False</td>\n",
       "    </tr>\n",
       "    <tr>\n",
       "      <th>1</th>\n",
       "      <td>2</td>\n",
       "      <td>qzx1</td>\n",
       "      <td>42</td>\n",
       "      <td>162.0</td>\n",
       "      <td>0</td>\n",
       "      <td>1</td>\n",
       "      <td>2</td>\n",
       "      <td>3.552356</td>\n",
       "      <td>1.719870</td>\n",
       "      <td>-0.000300</td>\n",
       "      <td>False</td>\n",
       "    </tr>\n",
       "    <tr>\n",
       "      <th>2</th>\n",
       "      <td>3</td>\n",
       "      <td>qzx1</td>\n",
       "      <td>40</td>\n",
       "      <td>381.0</td>\n",
       "      <td>0</td>\n",
       "      <td>1</td>\n",
       "      <td>2</td>\n",
       "      <td>3.551545</td>\n",
       "      <td>2.055290</td>\n",
       "      <td>-0.000003</td>\n",
       "      <td>False</td>\n",
       "    </tr>\n",
       "    <tr>\n",
       "      <th>3</th>\n",
       "      <td>4</td>\n",
       "      <td>qzx1</td>\n",
       "      <td>40</td>\n",
       "      <td>351.0</td>\n",
       "      <td>0</td>\n",
       "      <td>1</td>\n",
       "      <td>2</td>\n",
       "      <td>4.202698</td>\n",
       "      <td>1.151331</td>\n",
       "      <td>-0.010516</td>\n",
       "      <td>False</td>\n",
       "    </tr>\n",
       "    <tr>\n",
       "      <th>4</th>\n",
       "      <td>5</td>\n",
       "      <td>qzx1</td>\n",
       "      <td>44</td>\n",
       "      <td>120.0</td>\n",
       "      <td>0</td>\n",
       "      <td>1</td>\n",
       "      <td>2</td>\n",
       "      <td>2.818966</td>\n",
       "      <td>2.169682</td>\n",
       "      <td>-0.000348</td>\n",
       "      <td>False</td>\n",
       "    </tr>\n",
       "  </tbody>\n",
       "</table>\n",
       "</div>"
      ],
      "text/plain": [
       "   Unnamed: 0    ID  age  contract_length  upgraded  gender  category  \\\n",
       "0           1  qzx1   41           2027.0         0       1         1   \n",
       "1           2  qzx1   42            162.0         0       1         2   \n",
       "2           3  qzx1   40            381.0         0       1         2   \n",
       "3           4  qzx1   40            351.0         0       1         2   \n",
       "4           5  qzx1   44            120.0         0       1         2   \n",
       "\n",
       "     score1    score2    score3  customer  \n",
       "0  4.155778  1.303375 -0.003228     False  \n",
       "1  3.552356  1.719870 -0.000300     False  \n",
       "2  3.551545  2.055290 -0.000003     False  \n",
       "3  4.202698  1.151331 -0.010516     False  \n",
       "4  2.818966  2.169682 -0.000348     False  "
      ]
     },
     "execution_count": 92,
     "metadata": {},
     "output_type": "execute_result"
    }
   ],
   "source": [
    "df_data.head()"
   ]
  },
  {
   "cell_type": "code",
   "execution_count": 93,
   "metadata": {},
   "outputs": [
    {
     "data": {
      "text/plain": [
       "<matplotlib.axes._subplots.AxesSubplot at 0x130c36eb8>"
      ]
     },
     "execution_count": 93,
     "metadata": {},
     "output_type": "execute_result"
    },
    {
     "data": {
      "image/png": "[encoded data removed]",
      "text/plain": [
       "<matplotlib.figure.Figure at 0x130c36320>"
      ]
     },
     "metadata": {},
     "output_type": "display_data"
    }
   ],
   "source": [
    "# Comparing the age and customer attributes\n",
    "plot_data = pd.crosstab(df_data['age'],df_data['customer'])\n",
    "plot_data.plot(kind='bar', stacked=True, color=['orange','blue'], grid=False, figsize=(12,8), title='plot of age by customer')"
   ]
  },
  {
   "cell_type": "code",
   "execution_count": 94,
   "metadata": {},
   "outputs": [
    {
     "data": {
      "text/plain": [
       "<matplotlib.axes._subplots.AxesSubplot at 0x130c33ba8>"
      ]
     },
     "execution_count": 94,
     "metadata": {},
     "output_type": "execute_result"
    },
    {
     "data": {
      "image/png": "[encoded data removed]",
      "text/plain": [
       "<matplotlib.figure.Figure at 0x130ce75f8>"
      ]
     },
     "metadata": {},
     "output_type": "display_data"
    }
   ],
   "source": [
    "# Comparing the category and customer attributes\n",
    "plot_data = pd.crosstab(df_data['category'],df_data['customer'])\n",
    "plot_data.plot(kind='bar', stacked=True, color=['orange','blue'], grid=False, figsize=(12,8), title='plot of category by customer')"
   ]
  },
  {
   "cell_type": "code",
   "execution_count": 95,
   "metadata": {},
   "outputs": [
    {
     "data": {
      "text/plain": [
       "<matplotlib.axes._subplots.AxesSubplot at 0x131f63c18>"
      ]
     },
     "execution_count": 95,
     "metadata": {},
     "output_type": "execute_result"
    },
    {
     "data": {
      "image/png": "[encoded data removed]",
      "text/plain": [
       "<matplotlib.figure.Figure at 0x131f53eb8>"
      ]
     },
     "metadata": {},
     "output_type": "display_data"
    }
   ],
   "source": [
    "# Comparing the gender and customer attributes\n",
    "plot_data = pd.crosstab(df_data['gender'],df_data['customer'])\n",
    "plot_data.plot(kind='bar', stacked=True, color=['orange','blue'], grid=False, figsize=(12,8), title='plot of gender by customer')"
   ]
  },
  {
   "cell_type": "code",
   "execution_count": null,
   "metadata": {
    "collapsed": true
   },
   "outputs": [],
   "source": []
  },
  {
   "cell_type": "code",
   "execution_count": 96,
   "metadata": {},
   "outputs": [
    {
     "data": {
      "text/plain": [
       "array(['0', '1'], dtype=object)"
      ]
     },
     "execution_count": 96,
     "metadata": {},
     "output_type": "execute_result"
    }
   ],
   "source": [
    "# convert bool attributes customer\n",
    "df_data['customer'] = df_data.customer.apply(lambda x: str(x))\n",
    "df_data['customer'] = df_data.customer.apply(lambda x: x.replace('False','0'))\n",
    "df_data['customer'] = df_data.customer.apply(lambda x: x.replace('True','1'))\n",
    "df_data.customer.unique()"
   ]
  },
  {
   "cell_type": "code",
   "execution_count": 97,
   "metadata": {
    "collapsed": true
   },
   "outputs": [],
   "source": [
    "# convert customer data fron object to number\n",
    "df_data['customer'] = df_data.customer.apply(lambda x: int(x))"
   ]
  },
  {
   "cell_type": "code",
   "execution_count": 98,
   "metadata": {
    "collapsed": true
   },
   "outputs": [],
   "source": [
    "# select only numeric attributes\n",
    "numeric_features = df_data[['age','contract_length','upgraded','gender','category','score1','score2','score3','customer']]\n"
   ]
  },
  {
   "cell_type": "code",
   "execution_count": 99,
   "metadata": {},
   "outputs": [
    {
     "data": {
      "text/html": [
       "<div>\n",
       "<style scoped>\n",
       "    .dataframe tbody tr th:only-of-type {\n",
       "        vertical-align: middle;\n",
       "    }\n",
       "\n",
       "    .dataframe tbody tr th {\n",
       "        vertical-align: top;\n",
       "    }\n",
       "\n",
       "    .dataframe thead th {\n",
       "        text-align: right;\n",
       "    }\n",
       "</style>\n",
       "<table border=\"1\" class=\"dataframe\">\n",
       "  <thead>\n",
       "    <tr style=\"text-align: right;\">\n",
       "      <th></th>\n",
       "      <th>age</th>\n",
       "      <th>contract_length</th>\n",
       "      <th>upgraded</th>\n",
       "      <th>gender</th>\n",
       "      <th>category</th>\n",
       "      <th>score1</th>\n",
       "      <th>score2</th>\n",
       "      <th>score3</th>\n",
       "      <th>customer</th>\n",
       "    </tr>\n",
       "  </thead>\n",
       "  <tbody>\n",
       "    <tr>\n",
       "      <th>0</th>\n",
       "      <td>41</td>\n",
       "      <td>2027.0</td>\n",
       "      <td>0</td>\n",
       "      <td>1</td>\n",
       "      <td>1</td>\n",
       "      <td>4.155778</td>\n",
       "      <td>1.303375</td>\n",
       "      <td>-0.003228</td>\n",
       "      <td>0</td>\n",
       "    </tr>\n",
       "    <tr>\n",
       "      <th>1</th>\n",
       "      <td>42</td>\n",
       "      <td>162.0</td>\n",
       "      <td>0</td>\n",
       "      <td>1</td>\n",
       "      <td>2</td>\n",
       "      <td>3.552356</td>\n",
       "      <td>1.719870</td>\n",
       "      <td>-0.000300</td>\n",
       "      <td>0</td>\n",
       "    </tr>\n",
       "    <tr>\n",
       "      <th>2</th>\n",
       "      <td>40</td>\n",
       "      <td>381.0</td>\n",
       "      <td>0</td>\n",
       "      <td>1</td>\n",
       "      <td>2</td>\n",
       "      <td>3.551545</td>\n",
       "      <td>2.055290</td>\n",
       "      <td>-0.000003</td>\n",
       "      <td>0</td>\n",
       "    </tr>\n",
       "    <tr>\n",
       "      <th>3</th>\n",
       "      <td>40</td>\n",
       "      <td>351.0</td>\n",
       "      <td>0</td>\n",
       "      <td>1</td>\n",
       "      <td>2</td>\n",
       "      <td>4.202698</td>\n",
       "      <td>1.151331</td>\n",
       "      <td>-0.010516</td>\n",
       "      <td>0</td>\n",
       "    </tr>\n",
       "    <tr>\n",
       "      <th>4</th>\n",
       "      <td>44</td>\n",
       "      <td>120.0</td>\n",
       "      <td>0</td>\n",
       "      <td>1</td>\n",
       "      <td>2</td>\n",
       "      <td>2.818966</td>\n",
       "      <td>2.169682</td>\n",
       "      <td>-0.000348</td>\n",
       "      <td>0</td>\n",
       "    </tr>\n",
       "  </tbody>\n",
       "</table>\n",
       "</div>"
      ],
      "text/plain": [
       "   age  contract_length  upgraded  gender  category    score1    score2  \\\n",
       "0   41           2027.0         0       1         1  4.155778  1.303375   \n",
       "1   42            162.0         0       1         2  3.552356  1.719870   \n",
       "2   40            381.0         0       1         2  3.551545  2.055290   \n",
       "3   40            351.0         0       1         2  4.202698  1.151331   \n",
       "4   44            120.0         0       1         2  2.818966  2.169682   \n",
       "\n",
       "     score3  customer  \n",
       "0 -0.003228         0  \n",
       "1 -0.000300         0  \n",
       "2 -0.000003         0  \n",
       "3 -0.010516         0  \n",
       "4 -0.000348         0  "
      ]
     },
     "execution_count": 99,
     "metadata": {},
     "output_type": "execute_result"
    }
   ],
   "source": [
    "numeric_features.head()"
   ]
  },
  {
   "cell_type": "code",
   "execution_count": 100,
   "metadata": {},
   "outputs": [
    {
     "name": "stdout",
     "output_type": "stream",
     "text": [
      "customer           1.000000\n",
      "upgraded           0.266606\n",
      "age                0.126768\n",
      "score2             0.057003\n",
      "category           0.012293\n",
      "gender             0.007692\n",
      "score3            -0.019022\n",
      "contract_length   -0.088066\n",
      "score1            -0.104302\n",
      "Name: customer, dtype: float64 \n",
      "\n"
     ]
    }
   ],
   "source": [
    "# attribute correlation\n",
    "corr = numeric_features.corr()\n",
    "print (corr['customer'].sort_values(ascending=False), '\\n')"
   ]
  },
  {
   "cell_type": "code",
   "execution_count": null,
   "metadata": {
    "collapsed": true
   },
   "outputs": [],
   "source": []
  },
  {
   "cell_type": "markdown",
   "metadata": {},
   "source": [
    "### KMeans application"
   ]
  },
  {
   "cell_type": "code",
   "execution_count": 101,
   "metadata": {
    "collapsed": true
   },
   "outputs": [],
   "source": [
    "# create the dataset of known customers\n",
    "df_customers = df_data[df_data['customer']==1]"
   ]
  },
  {
   "cell_type": "code",
   "execution_count": 102,
   "metadata": {
    "collapsed": true
   },
   "outputs": [],
   "source": [
    "df_customers = df_customers[df_customers['contract_length'] > 0]"
   ]
  },
  {
   "cell_type": "code",
   "execution_count": 103,
   "metadata": {
    "collapsed": true
   },
   "outputs": [],
   "source": [
    "# Apply the log normalization function to the columns\n",
    "#df_customers[\"age_log\"] = np.log(df_customers[\"age\"])"
   ]
  },
  {
   "cell_type": "code",
   "execution_count": null,
   "metadata": {
    "collapsed": true
   },
   "outputs": [],
   "source": []
  },
  {
   "cell_type": "code",
   "execution_count": 104,
   "metadata": {
    "collapsed": true
   },
   "outputs": [],
   "source": [
    "# create the dataset of potential customers\n",
    "df_non_customers = df_data[df_data['customer']==0]"
   ]
  },
  {
   "cell_type": "code",
   "execution_count": 105,
   "metadata": {
    "collapsed": true
   },
   "outputs": [],
   "source": [
    "# Store the identifier\n",
    "df_non_customers_ID = df_non_customers['ID']\n",
    "df_customers_ID = df_customers['ID']"
   ]
  },
  {
   "cell_type": "code",
   "execution_count": 106,
   "metadata": {
    "collapsed": true
   },
   "outputs": [],
   "source": [
    "# Drop the Id and customer values from the dataset\n",
    "df_non_customers = df_non_customers.drop(['ID','customer','contract_length'],axis=1)\n",
    "df_customers = df_customers.drop(['ID','customer','contract_length'],axis=1) "
   ]
  },
  {
   "cell_type": "code",
   "execution_count": 107,
   "metadata": {
    "collapsed": true
   },
   "outputs": [],
   "source": [
    "# Convert dataframe into list and then into a numpy array\n",
    "df_customers_values = df_customers.values.tolist() \n",
    "df_customers_values = np.array(df_customers_values)"
   ]
  },
  {
   "cell_type": "code",
   "execution_count": 108,
   "metadata": {
    "collapsed": true
   },
   "outputs": [],
   "source": [
    "## Convert non_customers dataframe into list and then into a numpy array\n",
    "df_non_customers_values = df_non_customers.values.tolist() \n",
    "df_non_customers_values = np.array(df_non_customers_values)"
   ]
  },
  {
   "cell_type": "code",
   "execution_count": 109,
   "metadata": {},
   "outputs": [
    {
     "data": {
      "image/png": "[encoded data removed]",
      "text/plain": [
       "<matplotlib.figure.Figure at 0x130d5fd30>"
      ]
     },
     "metadata": {},
     "output_type": "display_data"
    }
   ],
   "source": [
    "# Using the elbow method to find the optimal number of clusters\n",
    "from sklearn.cluster import KMeans\n",
    "wcss = []\n",
    "for i in range(1, 11):\n",
    "    kmeans = KMeans(n_clusters = i, init = 'k-means++', random_state = 42)\n",
    "    kmeans.fit(df_customers_values)\n",
    "    wcss.append(kmeans.inertia_)\n",
    "plt.plot(range(1, 11), wcss)\n",
    "plt.title('The Elbow Method')\n",
    "plt.xlabel('Number of clusters')\n",
    "plt.ylabel('WCSS')\n",
    "plt.show()"
   ]
  },
  {
   "cell_type": "code",
   "execution_count": 110,
   "metadata": {
    "collapsed": true
   },
   "outputs": [],
   "source": [
    "# Fitting K-Means to the dataset\n",
    "kmeans = KMeans(n_clusters = 3, init = 'k-means++', random_state = 42)\n",
    "pred_labels = kmeans.fit_predict(df_customers_values)"
   ]
  },
  {
   "cell_type": "code",
   "execution_count": 111,
   "metadata": {
    "collapsed": true
   },
   "outputs": [],
   "source": [
    "# Add predicted labels to dataset\n",
    "df_customers['pred_labels'] = pred_labels"
   ]
  },
  {
   "cell_type": "code",
   "execution_count": null,
   "metadata": {
    "collapsed": true
   },
   "outputs": [],
   "source": []
  },
  {
   "cell_type": "markdown",
   "metadata": {},
   "source": [
    "### Use PCA on data and visualize"
   ]
  },
  {
   "cell_type": "code",
   "execution_count": 112,
   "metadata": {
    "collapsed": true
   },
   "outputs": [],
   "source": [
    "# "
   ]
  },
  {
   "cell_type": "code",
   "execution_count": null,
   "metadata": {
    "collapsed": true
   },
   "outputs": [],
   "source": []
  },
  {
   "cell_type": "markdown",
   "metadata": {},
   "source": [
    "### Evaluate Algorithms: Baseline\n",
    "This is needed to know the algorithms that will do well in predicting look alike customers"
   ]
  },
  {
   "cell_type": "code",
   "execution_count": 113,
   "metadata": {
    "collapsed": true
   },
   "outputs": [],
   "source": [
    "# create train and validation datasets\n",
    "X = df_customers[['age','upgraded','gender','category','score1','score2','score3']].values\n",
    "y = df_customers[['pred_labels']].values"
   ]
  },
  {
   "cell_type": "code",
   "execution_count": 114,
   "metadata": {
    "collapsed": true
   },
   "outputs": [],
   "source": [
    "# validation options and evaluation metric\n",
    "num_folds = 10\n",
    "seed = 42\n",
    "validation_size = 0.30\n",
    "scoring = 'accuracy'"
   ]
  },
  {
   "cell_type": "code",
   "execution_count": 115,
   "metadata": {
    "collapsed": true
   },
   "outputs": [],
   "source": [
    "# train_test_split\n",
    "X_train, X_validation, y_train, y_validation = train_test_split(X, y, test_size=validation_size, random_state=seed)"
   ]
  },
  {
   "cell_type": "code",
   "execution_count": 116,
   "metadata": {
    "collapsed": true
   },
   "outputs": [],
   "source": [
    "# Spot-Check Algorithms\n",
    "models = []\n",
    "models.append(( 'LR' , LogisticRegression()))\n",
    "models.append(( 'LDA' , LinearDiscriminantAnalysis()))\n",
    "models.append(( 'KNN' , KNeighborsClassifier()))\n",
    "models.append(( 'CART' , DecisionTreeClassifier()))\n",
    "models.append(( 'NB' , GaussianNB()))\n",
    "models.append(( 'SVC' , SVC()))\n",
    "models.append(( 'RF' , RandomForestClassifier()))"
   ]
  },
  {
   "cell_type": "code",
   "execution_count": 117,
   "metadata": {},
   "outputs": [
    {
     "name": "stdout",
     "output_type": "stream",
     "text": [
      "LR: 0.886505 (0.008883)\n",
      "LDA: 0.886868 (0.015328)\n",
      "KNN: 0.910142 (0.008121)\n",
      "CART: 0.910855 (0.010863)\n",
      "NB: 0.718587 (0.020886)\n",
      "SVC: 0.940218 (0.014994)\n",
      "RF: 0.924469 (0.017644)\n"
     ]
    }
   ],
   "source": [
    "# Evaluate each model in turn and print accuracy\n",
    "results = []\n",
    "names = []\n",
    "for name, model in models:\n",
    "    kfold = KFold(n_splits=num_folds, random_state=seed)\n",
    "    cv_results = cross_val_score(model, X_train, y_train, cv=kfold, scoring= scoring)\n",
    "    results.append(cv_results)\n",
    "    names.append(name)\n",
    "    msg = \"%s: %f (%f)\" % (name, cv_results.mean(), cv_results.std())\n",
    "    print(msg)"
   ]
  },
  {
   "cell_type": "markdown",
   "metadata": {},
   "source": [
    "The above results are mean accuracy values"
   ]
  },
  {
   "cell_type": "code",
   "execution_count": 118,
   "metadata": {},
   "outputs": [
    {
     "data": {
      "image/png": "[encoded data removed]",
      "text/plain": [
       "<matplotlib.figure.Figure at 0x121cc89e8>"
      ]
     },
     "metadata": {},
     "output_type": "display_data"
    }
   ],
   "source": [
    "# Compare Algorithms\n",
    "fig = plt.figure(figsize=(18,5))\n",
    "fig.suptitle('Algorithm Comparison')\n",
    "ax = fig.add_subplot(111)\n",
    "plt.boxplot(results)\n",
    "ax.set_xticklabels(names)\n",
    "plt.show()"
   ]
  },
  {
   "cell_type": "markdown",
   "metadata": {},
   "source": [
    "Visualization of the distribution of algorithm performance, the SVC and RandomForestClassifier models appears to out perform the other models. More efforts could go into further improvement of both models. It should also be noted that the wide value range of attributes may in away affect perfomance. From my observations adjusting the value passed into the \"random_state\" directly affects model performance, I used 7 and 42."
   ]
  },
  {
   "cell_type": "markdown",
   "metadata": {},
   "source": [
    "### Evaluate Algorithms: Standardize Data"
   ]
  },
  {
   "cell_type": "code",
   "execution_count": 119,
   "metadata": {
    "collapsed": true
   },
   "outputs": [],
   "source": [
    "# Use StandardScaler"
   ]
  },
  {
   "cell_type": "code",
   "execution_count": null,
   "metadata": {
    "collapsed": true
   },
   "outputs": [],
   "source": []
  },
  {
   "cell_type": "code",
   "execution_count": null,
   "metadata": {
    "collapsed": true
   },
   "outputs": [],
   "source": []
  },
  {
   "cell_type": "code",
   "execution_count": 120,
   "metadata": {},
   "outputs": [
    {
     "name": "stdout",
     "output_type": "stream",
     "text": [
      "0.947368421053\n",
      "[[174   0  21]\n",
      " [  0 566  19]\n",
      " [  2  21 394]]\n",
      "              precision    recall  f1-score   support\n",
      "\n",
      "           0       0.99      0.89      0.94       195\n",
      "           1       0.96      0.97      0.97       585\n",
      "           2       0.91      0.94      0.93       417\n",
      "\n",
      "   micro avg       0.95      0.95      0.95      1197\n",
      "   macro avg       0.95      0.93      0.94      1197\n",
      "weighted avg       0.95      0.95      0.95      1197\n",
      "\n"
     ]
    }
   ],
   "source": [
    "# Make predictions on validation dataset using the best model \n",
    "svc = SVC()\n",
    "svc.fit(X_train, y_train)\n",
    "predictions = svc.predict(X_validation)\n",
    "print(accuracy_score(y_validation, predictions))\n",
    "print(confusion_matrix(y_validation, predictions))\n",
    "print(classification_report(y_validation, predictions))"
   ]
  },
  {
   "cell_type": "markdown",
   "metadata": {},
   "source": [
    "From the result above, the cluster labels 0,1,2 have precision values 0.99, 0.96, 0.91 respectively,\n",
    "but when the value 7 was passed into \"random_state\" the model precision values for the cluster labels 0,1,2 were: 0.97, 0.97, 0.92 respectively."
   ]
  },
  {
   "cell_type": "code",
   "execution_count": 122,
   "metadata": {},
   "outputs": [],
   "source": [
    "# Get values to make predictions on new dataset\n",
    "X = df_non_customers[['age','upgraded','gender','category','score1','score2','score3']].values\n",
    "predictions_new = svc.predict(X)"
   ]
  },
  {
   "cell_type": "code",
   "execution_count": 123,
   "metadata": {
    "collapsed": true
   },
   "outputs": [],
   "source": [
    "# Add the predicted cluster label values to the dataset\n",
    "df_non_customers['pred_cluster'] = predictions_new"
   ]
  },
  {
   "cell_type": "code",
   "execution_count": 124,
   "metadata": {},
   "outputs": [
    {
     "name": "stdout",
     "output_type": "stream",
     "text": [
      "pred_cluster\n",
      "0    88963\n",
      "1    57019\n",
      "2    65741\n",
      "dtype: int64\n"
     ]
    }
   ],
   "source": [
    "# non_customers class distribution by pred_cluster\n",
    "print(df_non_customers.groupby('pred_cluster').size())"
   ]
  },
  {
   "cell_type": "markdown",
   "metadata": {},
   "source": [
    "The result above shows the count of customers per label/cluster"
   ]
  },
  {
   "cell_type": "code",
   "execution_count": null,
   "metadata": {
    "collapsed": true
   },
   "outputs": [],
   "source": []
  },
  {
   "cell_type": "code",
   "execution_count": null,
   "metadata": {
    "collapsed": true
   },
   "outputs": [],
   "source": []
  }
 ],
 "metadata": {
  "kernelspec": {
   "display_name": "Python 3",
   "language": "python",
   "name": "python3"
  },
  "language_info": {
   "codemirror_mode": {
    "name": "ipython",
    "version": 3
   },
   "file_extension": ".py",
   "mimetype": "text/x-python",
   "name": "python",
   "nbconvert_exporter": "python",
   "pygments_lexer": "ipython3",
   "version": "3.6.3"
  }
 },
 "nbformat": 4,
 "nbformat_minor": 2
}
